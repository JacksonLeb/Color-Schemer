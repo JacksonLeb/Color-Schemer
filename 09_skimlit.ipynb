{
  "nbformat": 4,
  "nbformat_minor": 0,
  "metadata": {
    "colab": {
      "name": "09_skimlit.ipynb",
      "provenance": [],
      "collapsed_sections": [],
      "authorship_tag": "ABX9TyMelaKfJiVAoOYvnKwVN9RB",
      "include_colab_link": true
    },
    "kernelspec": {
      "name": "python3",
      "display_name": "Python 3"
    },
    "language_info": {
      "name": "python"
    },
    "accelerator": "GPU",
    "gpuClass": "standard"
  },
  "cells": [
    {
      "cell_type": "markdown",
      "metadata": {
        "id": "view-in-github",
        "colab_type": "text"
      },
      "source": [
        "<a href=\"https://colab.research.google.com/github/JacksonLeb/Color-Schemer/blob/main/09_skimlit.ipynb\" target=\"_parent\"><img src=\"https://colab.research.google.com/assets/colab-badge.svg\" alt=\"Open In Colab\"/></a>"
      ]
    },
    {
      "cell_type": "code",
      "execution_count": 1,
      "metadata": {
        "colab": {
          "base_uri": "https://localhost:8080/"
        },
        "id": "CjJsWKQGmcNV",
        "outputId": "367abec9-c706-4e93-e93a-2172cb2dae59"
      },
      "outputs": [
        {
          "output_type": "stream",
          "name": "stdout",
          "text": [
            "GPU 0: Tesla T4 (UUID: GPU-1a55ba92-316e-dadb-d6e2-9730d6493286)\n"
          ]
        }
      ],
      "source": [
        "!nvidia-smi -L"
      ]
    },
    {
      "cell_type": "markdown",
      "source": [
        "#Building NLP Model to make Reading Medical Abstracts Easier"
      ],
      "metadata": {
        "id": "1nAVeDLDnZlj"
      }
    },
    {
      "cell_type": "code",
      "source": [
        "!git clone https://github.com/Franck-Dernoncourt/pubmed-rct.git\n",
        "!ls pubmed-rct"
      ],
      "metadata": {
        "colab": {
          "base_uri": "https://localhost:8080/"
        },
        "id": "KkkpF0bkn3jn",
        "outputId": "2ada9047-2835-4c90-f213-834a63a717ac"
      },
      "execution_count": 2,
      "outputs": [
        {
          "output_type": "stream",
          "name": "stdout",
          "text": [
            "Cloning into 'pubmed-rct'...\n",
            "remote: Enumerating objects: 33, done.\u001b[K\n",
            "remote: Counting objects: 100% (8/8), done.\u001b[K\n",
            "remote: Compressing objects: 100% (3/3), done.\u001b[K\n",
            "remote: Total 33 (delta 5), reused 5 (delta 5), pack-reused 25\u001b[K\n",
            "Unpacking objects: 100% (33/33), done.\n",
            "PubMed_200k_RCT\n",
            "PubMed_200k_RCT_numbers_replaced_with_at_sign\n",
            "PubMed_20k_RCT\n",
            "PubMed_20k_RCT_numbers_replaced_with_at_sign\n",
            "README.md\n"
          ]
        }
      ]
    },
    {
      "cell_type": "code",
      "source": [
        "#Checking files in Pubmed_20k\n",
        "!ls pubmed-rct/PubMed_20k_RCT_numbers_replaced_with_at_sign/"
      ],
      "metadata": {
        "colab": {
          "base_uri": "https://localhost:8080/"
        },
        "id": "bu9vdFMWopxB",
        "outputId": "68387d21-36b2-4ed3-dc74-06d66c5dbd54"
      },
      "execution_count": 3,
      "outputs": [
        {
          "output_type": "stream",
          "name": "stdout",
          "text": [
            "dev.txt  test.txt  train.txt\n"
          ]
        }
      ]
    },
    {
      "cell_type": "code",
      "source": [
        "#Getting filenames and 20k  dataset with numbers replaced with @\n",
        "data_dir = \"/content/pubmed-rct/PubMed_20k_RCT_numbers_replaced_with_at_sign\"\n"
      ],
      "metadata": {
        "id": "dCCS9n9uo8rZ"
      },
      "execution_count": 4,
      "outputs": []
    },
    {
      "cell_type": "code",
      "source": [
        "#checking file names in target directory\n",
        "import os\n",
        "filenames = [data_dir + filename for filename in os.listdir(data_dir)]\n",
        "filenames"
      ],
      "metadata": {
        "colab": {
          "base_uri": "https://localhost:8080/"
        },
        "id": "1IsMzFsjps0E",
        "outputId": "406afeaf-a724-4c37-9481-1d783b437412"
      },
      "execution_count": 5,
      "outputs": [
        {
          "output_type": "execute_result",
          "data": {
            "text/plain": [
              "['/content/pubmed-rct/PubMed_20k_RCT_numbers_replaced_with_at_signtest.txt',\n",
              " '/content/pubmed-rct/PubMed_20k_RCT_numbers_replaced_with_at_signtrain.txt',\n",
              " '/content/pubmed-rct/PubMed_20k_RCT_numbers_replaced_with_at_signdev.txt']"
            ]
          },
          "metadata": {},
          "execution_count": 5
        }
      ]
    },
    {
      "cell_type": "markdown",
      "source": [
        "###preproess data"
      ],
      "metadata": {
        "id": "usRVNSsbpzbz"
      }
    },
    {
      "cell_type": "code",
      "source": [
        "#Function to read in lines of target text file\n",
        "def get_lines(filename):\n",
        "  \"\"\"\n",
        "  Reads in a filename and returns the lines of text as a list\n",
        "\n",
        "  Args:\n",
        "    filename: a string ocintains the target filepath\n",
        "\n",
        "  Returns:\n",
        "    a list containing each line in the file\n",
        "  \"\"\"\n",
        "  with open(filename, \"r\") as f:\n",
        "    return f.readlines()\n",
        "    "
      ],
      "metadata": {
        "id": "f2xwpTzUqISd"
      },
      "execution_count": 6,
      "outputs": []
    },
    {
      "cell_type": "code",
      "source": [
        "#reading in training liines\n",
        "train_lines = get_lines(data_dir+\"/train.txt\")"
      ],
      "metadata": {
        "id": "M26EjlVIqrHm"
      },
      "execution_count": 7,
      "outputs": []
    },
    {
      "cell_type": "code",
      "source": [
        "train_lines[:20]"
      ],
      "metadata": {
        "colab": {
          "base_uri": "https://localhost:8080/"
        },
        "id": "9Foacc5_qt5d",
        "outputId": "256ad49a-9c15-4707-b62d-585ad4c562f8"
      },
      "execution_count": 8,
      "outputs": [
        {
          "output_type": "execute_result",
          "data": {
            "text/plain": [
              "['###24293578\\n',\n",
              " 'OBJECTIVE\\tTo investigate the efficacy of @ weeks of daily low-dose oral prednisolone in improving pain , mobility , and systemic low-grade inflammation in the short term and whether the effect would be sustained at @ weeks in older adults with moderate to severe knee osteoarthritis ( OA ) .\\n',\n",
              " 'METHODS\\tA total of @ patients with primary knee OA were randomized @:@ ; @ received @ mg/day of prednisolone and @ received placebo for @ weeks .\\n',\n",
              " 'METHODS\\tOutcome measures included pain reduction and improvement in function scores and systemic inflammation markers .\\n',\n",
              " 'METHODS\\tPain was assessed using the visual analog pain scale ( @-@ mm ) .\\n',\n",
              " 'METHODS\\tSecondary outcome measures included the Western Ontario and McMaster Universities Osteoarthritis Index scores , patient global assessment ( PGA ) of the severity of knee OA , and @-min walk distance ( @MWD ) .\\n',\n",
              " 'METHODS\\tSerum levels of interleukin @ ( IL-@ ) , IL-@ , tumor necrosis factor ( TNF ) - , and high-sensitivity C-reactive protein ( hsCRP ) were measured .\\n',\n",
              " 'RESULTS\\tThere was a clinically relevant reduction in the intervention group compared to the placebo group for knee pain , physical function , PGA , and @MWD at @ weeks .\\n',\n",
              " 'RESULTS\\tThe mean difference between treatment arms ( @ % CI ) was @ ( @-@ @ ) , p < @ ; @ ( @-@ @ ) , p < @ ; @ ( @-@ @ ) , p < @ ; and @ ( @-@ @ ) , p < @ , respectively .\\n',\n",
              " 'RESULTS\\tFurther , there was a clinically relevant reduction in the serum levels of IL-@ , IL-@ , TNF - , and hsCRP at @ weeks in the intervention group when compared to the placebo group .\\n',\n",
              " 'RESULTS\\tThese differences remained significant at @ weeks .\\n',\n",
              " 'RESULTS\\tThe Outcome Measures in Rheumatology Clinical Trials-Osteoarthritis Research Society International responder rate was @ % in the intervention group and @ % in the placebo group ( p < @ ) .\\n',\n",
              " 'CONCLUSIONS\\tLow-dose oral prednisolone had both a short-term and a longer sustained effect resulting in less knee pain , better physical function , and attenuation of systemic inflammation in older patients with knee OA ( ClinicalTrials.gov identifier NCT@ ) .\\n',\n",
              " '\\n',\n",
              " '###24854809\\n',\n",
              " 'BACKGROUND\\tEmotional eating is associated with overeating and the development of obesity .\\n',\n",
              " 'BACKGROUND\\tYet , empirical evidence for individual ( trait ) differences in emotional eating and cognitive mechanisms that contribute to eating during sad mood remain equivocal .\\n',\n",
              " 'OBJECTIVE\\tThe aim of this study was to test if attention bias for food moderates the effect of self-reported emotional eating during sad mood ( vs neutral mood ) on actual food intake .\\n',\n",
              " 'OBJECTIVE\\tIt was expected that emotional eating is predictive of elevated attention for food and higher food intake after an experimentally induced sad mood and that attentional maintenance on food predicts food intake during a sad versus a neutral mood .\\n',\n",
              " 'METHODS\\tParticipants ( N = @ ) were randomly assigned to one of the two experimental mood induction conditions ( sad/neutral ) .\\n']"
            ]
          },
          "metadata": {},
          "execution_count": 8
        }
      ]
    },
    {
      "cell_type": "code",
      "source": [
        "len(train_lines)"
      ],
      "metadata": {
        "colab": {
          "base_uri": "https://localhost:8080/"
        },
        "id": "YOPqc2Dbq4e4",
        "outputId": "35103ca2-4cdf-4fe4-dae9-30ee36964ecc"
      },
      "execution_count": 9,
      "outputs": [
        {
          "output_type": "execute_result",
          "data": {
            "text/plain": [
              "210040"
            ]
          },
          "metadata": {},
          "execution_count": 9
        }
      ]
    },
    {
      "cell_type": "markdown",
      "source": [
        "#How the data will be formatted\n",
        "[\n",
        "    {'linenumber': 0,\n",
        "     'target': 'BACKGROUND',\n",
        "     'text': 'Emotional eating is associated with overeating and the development of obesity ',\n",
        "     'total_lines': 11},\n",
        " \n",
        "]"
      ],
      "metadata": {
        "id": "1Ql6trCnrJGv"
      }
    },
    {
      "cell_type": "code",
      "source": [
        "def preprocess_text_with_line_numbers(filename):\n",
        "  \"\"\"\n",
        "  Returns a list of dictionaries of abstract line data\n",
        "\n",
        "  takes in filename, reads it contents and sort through each line, extracting htisngs like the target label,\n",
        "  the text of the sentence, how many sentences are in the current asbtract, etc\n",
        "  \"\"\"\n",
        "\n",
        "  input_lines = get_lines(filename)\n",
        "  abstract_lines = \"\"\n",
        "  abstract_samples = []\n",
        "\n",
        "  for line in input_lines:\n",
        "    if(line.startswith(\"###\")):\n",
        "      #new id line\n",
        "       abstract_id = line\n",
        "       abstract_lines = \"\"\n",
        "    elif(line.isspace()):\n",
        "      #new line\n",
        "       abstract_line_split = abstract_lines.splitlines()\n",
        "\n",
        "       #Iterate through each line in a single abstract and count them at the same time\n",
        "       for abstract_line_number, abstract_line in enumerate(abstract_line_split):\n",
        "         line_data = {}\n",
        "         target_text_split = abstract_line.split('\\t')\n",
        "         line_data[\"target\"] = target_text_split[0]\n",
        "         line_data[\"text\"] = target_text_split[1].lower()\n",
        "         line_data[\"line_number\"] = abstract_line_number\n",
        "         line_data[\"total_lines\"] = len(abstract_line_split) - 1\n",
        "         abstract_samples.append(line_data)\n",
        "    else:\n",
        "      abstract_lines += line\n",
        "  \n",
        "  return abstract_samples\n"
      ],
      "metadata": {
        "id": "rs7c786pr670"
      },
      "execution_count": 10,
      "outputs": []
    },
    {
      "cell_type": "code",
      "source": [
        "%%time\n",
        "train_samples = preprocess_text_with_line_numbers(data_dir + \"/train.txt\")\n",
        "val_samples = preprocess_text_with_line_numbers(data_dir + \"/dev.txt\")\n",
        "test_samples = preprocess_text_with_line_numbers(data_dir + \"/test.txt\")"
      ],
      "metadata": {
        "colab": {
          "base_uri": "https://localhost:8080/"
        },
        "id": "vZ-ugUyuXxeg",
        "outputId": "833f89eb-4364-40a5-a7b1-35ccc2a49ab1"
      },
      "execution_count": 11,
      "outputs": [
        {
          "output_type": "stream",
          "name": "stdout",
          "text": [
            "CPU times: user 411 ms, sys: 71.8 ms, total: 483 ms\n",
            "Wall time: 478 ms\n"
          ]
        }
      ]
    },
    {
      "cell_type": "code",
      "source": [
        "len(train_samples), len(val_samples), len(test_samples)"
      ],
      "metadata": {
        "colab": {
          "base_uri": "https://localhost:8080/"
        },
        "id": "CAf7kpLhX9by",
        "outputId": "2d5e9813-8481-4420-a15b-92c185e3561c"
      },
      "execution_count": 12,
      "outputs": [
        {
          "output_type": "execute_result",
          "data": {
            "text/plain": [
              "(180040, 30212, 30135)"
            ]
          },
          "metadata": {},
          "execution_count": 12
        }
      ]
    },
    {
      "cell_type": "code",
      "source": [
        "train_samples[:20]"
      ],
      "metadata": {
        "colab": {
          "base_uri": "https://localhost:8080/"
        },
        "id": "dYJ93F2BYF58",
        "outputId": "d52a6f91-130c-4e5e-afe2-605eb4647d13"
      },
      "execution_count": 13,
      "outputs": [
        {
          "output_type": "execute_result",
          "data": {
            "text/plain": [
              "[{'line_number': 0,\n",
              "  'target': 'OBJECTIVE',\n",
              "  'text': 'to investigate the efficacy of @ weeks of daily low-dose oral prednisolone in improving pain , mobility , and systemic low-grade inflammation in the short term and whether the effect would be sustained at @ weeks in older adults with moderate to severe knee osteoarthritis ( oa ) .',\n",
              "  'total_lines': 11},\n",
              " {'line_number': 1,\n",
              "  'target': 'METHODS',\n",
              "  'text': 'a total of @ patients with primary knee oa were randomized @:@ ; @ received @ mg/day of prednisolone and @ received placebo for @ weeks .',\n",
              "  'total_lines': 11},\n",
              " {'line_number': 2,\n",
              "  'target': 'METHODS',\n",
              "  'text': 'outcome measures included pain reduction and improvement in function scores and systemic inflammation markers .',\n",
              "  'total_lines': 11},\n",
              " {'line_number': 3,\n",
              "  'target': 'METHODS',\n",
              "  'text': 'pain was assessed using the visual analog pain scale ( @-@ mm ) .',\n",
              "  'total_lines': 11},\n",
              " {'line_number': 4,\n",
              "  'target': 'METHODS',\n",
              "  'text': 'secondary outcome measures included the western ontario and mcmaster universities osteoarthritis index scores , patient global assessment ( pga ) of the severity of knee oa , and @-min walk distance ( @mwd ) .',\n",
              "  'total_lines': 11},\n",
              " {'line_number': 5,\n",
              "  'target': 'METHODS',\n",
              "  'text': 'serum levels of interleukin @ ( il-@ ) , il-@ , tumor necrosis factor ( tnf ) - , and high-sensitivity c-reactive protein ( hscrp ) were measured .',\n",
              "  'total_lines': 11},\n",
              " {'line_number': 6,\n",
              "  'target': 'RESULTS',\n",
              "  'text': 'there was a clinically relevant reduction in the intervention group compared to the placebo group for knee pain , physical function , pga , and @mwd at @ weeks .',\n",
              "  'total_lines': 11},\n",
              " {'line_number': 7,\n",
              "  'target': 'RESULTS',\n",
              "  'text': 'the mean difference between treatment arms ( @ % ci ) was @ ( @-@ @ ) , p < @ ; @ ( @-@ @ ) , p < @ ; @ ( @-@ @ ) , p < @ ; and @ ( @-@ @ ) , p < @ , respectively .',\n",
              "  'total_lines': 11},\n",
              " {'line_number': 8,\n",
              "  'target': 'RESULTS',\n",
              "  'text': 'further , there was a clinically relevant reduction in the serum levels of il-@ , il-@ , tnf - , and hscrp at @ weeks in the intervention group when compared to the placebo group .',\n",
              "  'total_lines': 11},\n",
              " {'line_number': 9,\n",
              "  'target': 'RESULTS',\n",
              "  'text': 'these differences remained significant at @ weeks .',\n",
              "  'total_lines': 11},\n",
              " {'line_number': 10,\n",
              "  'target': 'RESULTS',\n",
              "  'text': 'the outcome measures in rheumatology clinical trials-osteoarthritis research society international responder rate was @ % in the intervention group and @ % in the placebo group ( p < @ ) .',\n",
              "  'total_lines': 11},\n",
              " {'line_number': 11,\n",
              "  'target': 'CONCLUSIONS',\n",
              "  'text': 'low-dose oral prednisolone had both a short-term and a longer sustained effect resulting in less knee pain , better physical function , and attenuation of systemic inflammation in older patients with knee oa ( clinicaltrials.gov identifier nct@ ) .',\n",
              "  'total_lines': 11},\n",
              " {'line_number': 0,\n",
              "  'target': 'BACKGROUND',\n",
              "  'text': 'emotional eating is associated with overeating and the development of obesity .',\n",
              "  'total_lines': 10},\n",
              " {'line_number': 1,\n",
              "  'target': 'BACKGROUND',\n",
              "  'text': 'yet , empirical evidence for individual ( trait ) differences in emotional eating and cognitive mechanisms that contribute to eating during sad mood remain equivocal .',\n",
              "  'total_lines': 10},\n",
              " {'line_number': 2,\n",
              "  'target': 'OBJECTIVE',\n",
              "  'text': 'the aim of this study was to test if attention bias for food moderates the effect of self-reported emotional eating during sad mood ( vs neutral mood ) on actual food intake .',\n",
              "  'total_lines': 10},\n",
              " {'line_number': 3,\n",
              "  'target': 'OBJECTIVE',\n",
              "  'text': 'it was expected that emotional eating is predictive of elevated attention for food and higher food intake after an experimentally induced sad mood and that attentional maintenance on food predicts food intake during a sad versus a neutral mood .',\n",
              "  'total_lines': 10},\n",
              " {'line_number': 4,\n",
              "  'target': 'METHODS',\n",
              "  'text': 'participants ( n = @ ) were randomly assigned to one of the two experimental mood induction conditions ( sad/neutral ) .',\n",
              "  'total_lines': 10},\n",
              " {'line_number': 5,\n",
              "  'target': 'METHODS',\n",
              "  'text': 'attentional biases for high caloric foods were measured by eye tracking during a visual probe task with pictorial food and neutral stimuli .',\n",
              "  'total_lines': 10},\n",
              " {'line_number': 6,\n",
              "  'target': 'METHODS',\n",
              "  'text': 'self-reported emotional eating was assessed with the dutch eating behavior questionnaire ( debq ) and ad libitum food intake was tested by a disguised food offer .',\n",
              "  'total_lines': 10},\n",
              " {'line_number': 7,\n",
              "  'target': 'RESULTS',\n",
              "  'text': 'hierarchical multivariate regression modeling showed that self-reported emotional eating did not account for changes in attention allocation for food or food intake in either condition .',\n",
              "  'total_lines': 10}]"
            ]
          },
          "metadata": {},
          "execution_count": 13
        }
      ]
    },
    {
      "cell_type": "code",
      "source": [
        "import pandas as pd\n",
        "train_df = pd.DataFrame(train_samples)\n",
        "val_df = pd.DataFrame(val_samples)\n",
        "test_df = pd.DataFrame(test_samples)"
      ],
      "metadata": {
        "id": "n2aNCMm3YUqS"
      },
      "execution_count": 14,
      "outputs": []
    },
    {
      "cell_type": "code",
      "source": [
        "train_df"
      ],
      "metadata": {
        "colab": {
          "base_uri": "https://localhost:8080/",
          "height": 424
        },
        "id": "HoukqNsTY4PG",
        "outputId": "8f1bed11-1102-4d0c-9bd8-56f5c6b62a99"
      },
      "execution_count": 15,
      "outputs": [
        {
          "output_type": "execute_result",
          "data": {
            "text/plain": [
              "             target                                               text  \\\n",
              "0         OBJECTIVE  to investigate the efficacy of @ weeks of dail...   \n",
              "1           METHODS  a total of @ patients with primary knee oa wer...   \n",
              "2           METHODS  outcome measures included pain reduction and i...   \n",
              "3           METHODS  pain was assessed using the visual analog pain...   \n",
              "4           METHODS  secondary outcome measures included the wester...   \n",
              "...             ...                                                ...   \n",
              "180035      RESULTS  for the absolute change in percent atheroma vo...   \n",
              "180036      RESULTS  for pav , a significantly greater percentage o...   \n",
              "180037      RESULTS  both strategies had acceptable side effect pro...   \n",
              "180038  CONCLUSIONS  compared with standard statin monotherapy , th...   \n",
              "180039  CONCLUSIONS  ( plaque regression with cholesterol absorptio...   \n",
              "\n",
              "        line_number  total_lines  \n",
              "0                 0           11  \n",
              "1                 1           11  \n",
              "2                 2           11  \n",
              "3                 3           11  \n",
              "4                 4           11  \n",
              "...             ...          ...  \n",
              "180035            7           11  \n",
              "180036            8           11  \n",
              "180037            9           11  \n",
              "180038           10           11  \n",
              "180039           11           11  \n",
              "\n",
              "[180040 rows x 4 columns]"
            ],
            "text/html": [
              "\n",
              "  <div id=\"df-7f1f69dd-9cf4-463e-907d-7a533acc7798\">\n",
              "    <div class=\"colab-df-container\">\n",
              "      <div>\n",
              "<style scoped>\n",
              "    .dataframe tbody tr th:only-of-type {\n",
              "        vertical-align: middle;\n",
              "    }\n",
              "\n",
              "    .dataframe tbody tr th {\n",
              "        vertical-align: top;\n",
              "    }\n",
              "\n",
              "    .dataframe thead th {\n",
              "        text-align: right;\n",
              "    }\n",
              "</style>\n",
              "<table border=\"1\" class=\"dataframe\">\n",
              "  <thead>\n",
              "    <tr style=\"text-align: right;\">\n",
              "      <th></th>\n",
              "      <th>target</th>\n",
              "      <th>text</th>\n",
              "      <th>line_number</th>\n",
              "      <th>total_lines</th>\n",
              "    </tr>\n",
              "  </thead>\n",
              "  <tbody>\n",
              "    <tr>\n",
              "      <th>0</th>\n",
              "      <td>OBJECTIVE</td>\n",
              "      <td>to investigate the efficacy of @ weeks of dail...</td>\n",
              "      <td>0</td>\n",
              "      <td>11</td>\n",
              "    </tr>\n",
              "    <tr>\n",
              "      <th>1</th>\n",
              "      <td>METHODS</td>\n",
              "      <td>a total of @ patients with primary knee oa wer...</td>\n",
              "      <td>1</td>\n",
              "      <td>11</td>\n",
              "    </tr>\n",
              "    <tr>\n",
              "      <th>2</th>\n",
              "      <td>METHODS</td>\n",
              "      <td>outcome measures included pain reduction and i...</td>\n",
              "      <td>2</td>\n",
              "      <td>11</td>\n",
              "    </tr>\n",
              "    <tr>\n",
              "      <th>3</th>\n",
              "      <td>METHODS</td>\n",
              "      <td>pain was assessed using the visual analog pain...</td>\n",
              "      <td>3</td>\n",
              "      <td>11</td>\n",
              "    </tr>\n",
              "    <tr>\n",
              "      <th>4</th>\n",
              "      <td>METHODS</td>\n",
              "      <td>secondary outcome measures included the wester...</td>\n",
              "      <td>4</td>\n",
              "      <td>11</td>\n",
              "    </tr>\n",
              "    <tr>\n",
              "      <th>...</th>\n",
              "      <td>...</td>\n",
              "      <td>...</td>\n",
              "      <td>...</td>\n",
              "      <td>...</td>\n",
              "    </tr>\n",
              "    <tr>\n",
              "      <th>180035</th>\n",
              "      <td>RESULTS</td>\n",
              "      <td>for the absolute change in percent atheroma vo...</td>\n",
              "      <td>7</td>\n",
              "      <td>11</td>\n",
              "    </tr>\n",
              "    <tr>\n",
              "      <th>180036</th>\n",
              "      <td>RESULTS</td>\n",
              "      <td>for pav , a significantly greater percentage o...</td>\n",
              "      <td>8</td>\n",
              "      <td>11</td>\n",
              "    </tr>\n",
              "    <tr>\n",
              "      <th>180037</th>\n",
              "      <td>RESULTS</td>\n",
              "      <td>both strategies had acceptable side effect pro...</td>\n",
              "      <td>9</td>\n",
              "      <td>11</td>\n",
              "    </tr>\n",
              "    <tr>\n",
              "      <th>180038</th>\n",
              "      <td>CONCLUSIONS</td>\n",
              "      <td>compared with standard statin monotherapy , th...</td>\n",
              "      <td>10</td>\n",
              "      <td>11</td>\n",
              "    </tr>\n",
              "    <tr>\n",
              "      <th>180039</th>\n",
              "      <td>CONCLUSIONS</td>\n",
              "      <td>( plaque regression with cholesterol absorptio...</td>\n",
              "      <td>11</td>\n",
              "      <td>11</td>\n",
              "    </tr>\n",
              "  </tbody>\n",
              "</table>\n",
              "<p>180040 rows × 4 columns</p>\n",
              "</div>\n",
              "      <button class=\"colab-df-convert\" onclick=\"convertToInteractive('df-7f1f69dd-9cf4-463e-907d-7a533acc7798')\"\n",
              "              title=\"Convert this dataframe to an interactive table.\"\n",
              "              style=\"display:none;\">\n",
              "        \n",
              "  <svg xmlns=\"http://www.w3.org/2000/svg\" height=\"24px\"viewBox=\"0 0 24 24\"\n",
              "       width=\"24px\">\n",
              "    <path d=\"M0 0h24v24H0V0z\" fill=\"none\"/>\n",
              "    <path d=\"M18.56 5.44l.94 2.06.94-2.06 2.06-.94-2.06-.94-.94-2.06-.94 2.06-2.06.94zm-11 1L8.5 8.5l.94-2.06 2.06-.94-2.06-.94L8.5 2.5l-.94 2.06-2.06.94zm10 10l.94 2.06.94-2.06 2.06-.94-2.06-.94-.94-2.06-.94 2.06-2.06.94z\"/><path d=\"M17.41 7.96l-1.37-1.37c-.4-.4-.92-.59-1.43-.59-.52 0-1.04.2-1.43.59L10.3 9.45l-7.72 7.72c-.78.78-.78 2.05 0 2.83L4 21.41c.39.39.9.59 1.41.59.51 0 1.02-.2 1.41-.59l7.78-7.78 2.81-2.81c.8-.78.8-2.07 0-2.86zM5.41 20L4 18.59l7.72-7.72 1.47 1.35L5.41 20z\"/>\n",
              "  </svg>\n",
              "      </button>\n",
              "      \n",
              "  <style>\n",
              "    .colab-df-container {\n",
              "      display:flex;\n",
              "      flex-wrap:wrap;\n",
              "      gap: 12px;\n",
              "    }\n",
              "\n",
              "    .colab-df-convert {\n",
              "      background-color: #E8F0FE;\n",
              "      border: none;\n",
              "      border-radius: 50%;\n",
              "      cursor: pointer;\n",
              "      display: none;\n",
              "      fill: #1967D2;\n",
              "      height: 32px;\n",
              "      padding: 0 0 0 0;\n",
              "      width: 32px;\n",
              "    }\n",
              "\n",
              "    .colab-df-convert:hover {\n",
              "      background-color: #E2EBFA;\n",
              "      box-shadow: 0px 1px 2px rgba(60, 64, 67, 0.3), 0px 1px 3px 1px rgba(60, 64, 67, 0.15);\n",
              "      fill: #174EA6;\n",
              "    }\n",
              "\n",
              "    [theme=dark] .colab-df-convert {\n",
              "      background-color: #3B4455;\n",
              "      fill: #D2E3FC;\n",
              "    }\n",
              "\n",
              "    [theme=dark] .colab-df-convert:hover {\n",
              "      background-color: #434B5C;\n",
              "      box-shadow: 0px 1px 3px 1px rgba(0, 0, 0, 0.15);\n",
              "      filter: drop-shadow(0px 1px 2px rgba(0, 0, 0, 0.3));\n",
              "      fill: #FFFFFF;\n",
              "    }\n",
              "  </style>\n",
              "\n",
              "      <script>\n",
              "        const buttonEl =\n",
              "          document.querySelector('#df-7f1f69dd-9cf4-463e-907d-7a533acc7798 button.colab-df-convert');\n",
              "        buttonEl.style.display =\n",
              "          google.colab.kernel.accessAllowed ? 'block' : 'none';\n",
              "\n",
              "        async function convertToInteractive(key) {\n",
              "          const element = document.querySelector('#df-7f1f69dd-9cf4-463e-907d-7a533acc7798');\n",
              "          const dataTable =\n",
              "            await google.colab.kernel.invokeFunction('convertToInteractive',\n",
              "                                                     [key], {});\n",
              "          if (!dataTable) return;\n",
              "\n",
              "          const docLinkHtml = 'Like what you see? Visit the ' +\n",
              "            '<a target=\"_blank\" href=https://colab.research.google.com/notebooks/data_table.ipynb>data table notebook</a>'\n",
              "            + ' to learn more about interactive tables.';\n",
              "          element.innerHTML = '';\n",
              "          dataTable['output_type'] = 'display_data';\n",
              "          await google.colab.output.renderOutput(dataTable, element);\n",
              "          const docLink = document.createElement('div');\n",
              "          docLink.innerHTML = docLinkHtml;\n",
              "          element.appendChild(docLink);\n",
              "        }\n",
              "      </script>\n",
              "    </div>\n",
              "  </div>\n",
              "  "
            ]
          },
          "metadata": {},
          "execution_count": 15
        }
      ]
    },
    {
      "cell_type": "code",
      "source": [
        "val_df"
      ],
      "metadata": {
        "colab": {
          "base_uri": "https://localhost:8080/",
          "height": 424
        },
        "id": "Rk-TtsMhY5Em",
        "outputId": "0980bbe0-31d4-40b9-f352-3e1fdd4a1740"
      },
      "execution_count": 16,
      "outputs": [
        {
          "output_type": "execute_result",
          "data": {
            "text/plain": [
              "            target                                               text  \\\n",
              "0       BACKGROUND  ige sensitization to aspergillus fumigatus and...   \n",
              "1       BACKGROUND  it is not clear whether these patients would b...   \n",
              "2        OBJECTIVE  we sought to determine whether a @-month cours...   \n",
              "3          METHODS  asthmatic patients who were ige sensitized to ...   \n",
              "4          METHODS  primary outcomes were improvement in quality o...   \n",
              "...            ...                                                ...   \n",
              "30207      RESULTS  pruritus occurred more frequently with the act...   \n",
              "30208      RESULTS  three patients in the active-regimen group ( @...   \n",
              "30209      RESULTS  hemoglobin values of grade @ ( @ to < @ g per ...   \n",
              "30210  CONCLUSIONS  rates of response to a @-week interferon-free ...   \n",
              "30211  CONCLUSIONS  ( funded by abbvie ; sapphire-ii clinicaltrial...   \n",
              "\n",
              "       line_number  total_lines  \n",
              "0                0            9  \n",
              "1                1            9  \n",
              "2                2            9  \n",
              "3                3            9  \n",
              "4                4            9  \n",
              "...            ...          ...  \n",
              "30207            9           13  \n",
              "30208           10           13  \n",
              "30209           11           13  \n",
              "30210           12           13  \n",
              "30211           13           13  \n",
              "\n",
              "[30212 rows x 4 columns]"
            ],
            "text/html": [
              "\n",
              "  <div id=\"df-fa56b32a-31b0-4d79-8223-0cec50ce973d\">\n",
              "    <div class=\"colab-df-container\">\n",
              "      <div>\n",
              "<style scoped>\n",
              "    .dataframe tbody tr th:only-of-type {\n",
              "        vertical-align: middle;\n",
              "    }\n",
              "\n",
              "    .dataframe tbody tr th {\n",
              "        vertical-align: top;\n",
              "    }\n",
              "\n",
              "    .dataframe thead th {\n",
              "        text-align: right;\n",
              "    }\n",
              "</style>\n",
              "<table border=\"1\" class=\"dataframe\">\n",
              "  <thead>\n",
              "    <tr style=\"text-align: right;\">\n",
              "      <th></th>\n",
              "      <th>target</th>\n",
              "      <th>text</th>\n",
              "      <th>line_number</th>\n",
              "      <th>total_lines</th>\n",
              "    </tr>\n",
              "  </thead>\n",
              "  <tbody>\n",
              "    <tr>\n",
              "      <th>0</th>\n",
              "      <td>BACKGROUND</td>\n",
              "      <td>ige sensitization to aspergillus fumigatus and...</td>\n",
              "      <td>0</td>\n",
              "      <td>9</td>\n",
              "    </tr>\n",
              "    <tr>\n",
              "      <th>1</th>\n",
              "      <td>BACKGROUND</td>\n",
              "      <td>it is not clear whether these patients would b...</td>\n",
              "      <td>1</td>\n",
              "      <td>9</td>\n",
              "    </tr>\n",
              "    <tr>\n",
              "      <th>2</th>\n",
              "      <td>OBJECTIVE</td>\n",
              "      <td>we sought to determine whether a @-month cours...</td>\n",
              "      <td>2</td>\n",
              "      <td>9</td>\n",
              "    </tr>\n",
              "    <tr>\n",
              "      <th>3</th>\n",
              "      <td>METHODS</td>\n",
              "      <td>asthmatic patients who were ige sensitized to ...</td>\n",
              "      <td>3</td>\n",
              "      <td>9</td>\n",
              "    </tr>\n",
              "    <tr>\n",
              "      <th>4</th>\n",
              "      <td>METHODS</td>\n",
              "      <td>primary outcomes were improvement in quality o...</td>\n",
              "      <td>4</td>\n",
              "      <td>9</td>\n",
              "    </tr>\n",
              "    <tr>\n",
              "      <th>...</th>\n",
              "      <td>...</td>\n",
              "      <td>...</td>\n",
              "      <td>...</td>\n",
              "      <td>...</td>\n",
              "    </tr>\n",
              "    <tr>\n",
              "      <th>30207</th>\n",
              "      <td>RESULTS</td>\n",
              "      <td>pruritus occurred more frequently with the act...</td>\n",
              "      <td>9</td>\n",
              "      <td>13</td>\n",
              "    </tr>\n",
              "    <tr>\n",
              "      <th>30208</th>\n",
              "      <td>RESULTS</td>\n",
              "      <td>three patients in the active-regimen group ( @...</td>\n",
              "      <td>10</td>\n",
              "      <td>13</td>\n",
              "    </tr>\n",
              "    <tr>\n",
              "      <th>30209</th>\n",
              "      <td>RESULTS</td>\n",
              "      <td>hemoglobin values of grade @ ( @ to &lt; @ g per ...</td>\n",
              "      <td>11</td>\n",
              "      <td>13</td>\n",
              "    </tr>\n",
              "    <tr>\n",
              "      <th>30210</th>\n",
              "      <td>CONCLUSIONS</td>\n",
              "      <td>rates of response to a @-week interferon-free ...</td>\n",
              "      <td>12</td>\n",
              "      <td>13</td>\n",
              "    </tr>\n",
              "    <tr>\n",
              "      <th>30211</th>\n",
              "      <td>CONCLUSIONS</td>\n",
              "      <td>( funded by abbvie ; sapphire-ii clinicaltrial...</td>\n",
              "      <td>13</td>\n",
              "      <td>13</td>\n",
              "    </tr>\n",
              "  </tbody>\n",
              "</table>\n",
              "<p>30212 rows × 4 columns</p>\n",
              "</div>\n",
              "      <button class=\"colab-df-convert\" onclick=\"convertToInteractive('df-fa56b32a-31b0-4d79-8223-0cec50ce973d')\"\n",
              "              title=\"Convert this dataframe to an interactive table.\"\n",
              "              style=\"display:none;\">\n",
              "        \n",
              "  <svg xmlns=\"http://www.w3.org/2000/svg\" height=\"24px\"viewBox=\"0 0 24 24\"\n",
              "       width=\"24px\">\n",
              "    <path d=\"M0 0h24v24H0V0z\" fill=\"none\"/>\n",
              "    <path d=\"M18.56 5.44l.94 2.06.94-2.06 2.06-.94-2.06-.94-.94-2.06-.94 2.06-2.06.94zm-11 1L8.5 8.5l.94-2.06 2.06-.94-2.06-.94L8.5 2.5l-.94 2.06-2.06.94zm10 10l.94 2.06.94-2.06 2.06-.94-2.06-.94-.94-2.06-.94 2.06-2.06.94z\"/><path d=\"M17.41 7.96l-1.37-1.37c-.4-.4-.92-.59-1.43-.59-.52 0-1.04.2-1.43.59L10.3 9.45l-7.72 7.72c-.78.78-.78 2.05 0 2.83L4 21.41c.39.39.9.59 1.41.59.51 0 1.02-.2 1.41-.59l7.78-7.78 2.81-2.81c.8-.78.8-2.07 0-2.86zM5.41 20L4 18.59l7.72-7.72 1.47 1.35L5.41 20z\"/>\n",
              "  </svg>\n",
              "      </button>\n",
              "      \n",
              "  <style>\n",
              "    .colab-df-container {\n",
              "      display:flex;\n",
              "      flex-wrap:wrap;\n",
              "      gap: 12px;\n",
              "    }\n",
              "\n",
              "    .colab-df-convert {\n",
              "      background-color: #E8F0FE;\n",
              "      border: none;\n",
              "      border-radius: 50%;\n",
              "      cursor: pointer;\n",
              "      display: none;\n",
              "      fill: #1967D2;\n",
              "      height: 32px;\n",
              "      padding: 0 0 0 0;\n",
              "      width: 32px;\n",
              "    }\n",
              "\n",
              "    .colab-df-convert:hover {\n",
              "      background-color: #E2EBFA;\n",
              "      box-shadow: 0px 1px 2px rgba(60, 64, 67, 0.3), 0px 1px 3px 1px rgba(60, 64, 67, 0.15);\n",
              "      fill: #174EA6;\n",
              "    }\n",
              "\n",
              "    [theme=dark] .colab-df-convert {\n",
              "      background-color: #3B4455;\n",
              "      fill: #D2E3FC;\n",
              "    }\n",
              "\n",
              "    [theme=dark] .colab-df-convert:hover {\n",
              "      background-color: #434B5C;\n",
              "      box-shadow: 0px 1px 3px 1px rgba(0, 0, 0, 0.15);\n",
              "      filter: drop-shadow(0px 1px 2px rgba(0, 0, 0, 0.3));\n",
              "      fill: #FFFFFF;\n",
              "    }\n",
              "  </style>\n",
              "\n",
              "      <script>\n",
              "        const buttonEl =\n",
              "          document.querySelector('#df-fa56b32a-31b0-4d79-8223-0cec50ce973d button.colab-df-convert');\n",
              "        buttonEl.style.display =\n",
              "          google.colab.kernel.accessAllowed ? 'block' : 'none';\n",
              "\n",
              "        async function convertToInteractive(key) {\n",
              "          const element = document.querySelector('#df-fa56b32a-31b0-4d79-8223-0cec50ce973d');\n",
              "          const dataTable =\n",
              "            await google.colab.kernel.invokeFunction('convertToInteractive',\n",
              "                                                     [key], {});\n",
              "          if (!dataTable) return;\n",
              "\n",
              "          const docLinkHtml = 'Like what you see? Visit the ' +\n",
              "            '<a target=\"_blank\" href=https://colab.research.google.com/notebooks/data_table.ipynb>data table notebook</a>'\n",
              "            + ' to learn more about interactive tables.';\n",
              "          element.innerHTML = '';\n",
              "          dataTable['output_type'] = 'display_data';\n",
              "          await google.colab.output.renderOutput(dataTable, element);\n",
              "          const docLink = document.createElement('div');\n",
              "          docLink.innerHTML = docLinkHtml;\n",
              "          element.appendChild(docLink);\n",
              "        }\n",
              "      </script>\n",
              "    </div>\n",
              "  </div>\n",
              "  "
            ]
          },
          "metadata": {},
          "execution_count": 16
        }
      ]
    },
    {
      "cell_type": "code",
      "source": [
        "test_df"
      ],
      "metadata": {
        "colab": {
          "base_uri": "https://localhost:8080/",
          "height": 424
        },
        "id": "cXl1i2BeY6ED",
        "outputId": "720be867-fee6-480d-f7e9-4beae2fb216c"
      },
      "execution_count": 17,
      "outputs": [
        {
          "output_type": "execute_result",
          "data": {
            "text/plain": [
              "            target                                               text  \\\n",
              "0       BACKGROUND  this study analyzed liver function abnormaliti...   \n",
              "1          RESULTS  a post hoc analysis was conducted with the use...   \n",
              "2          RESULTS  liver function tests ( lfts ) were measured at...   \n",
              "3          RESULTS  survival analyses were used to assess the asso...   \n",
              "4          RESULTS  the percentage of patients with abnormal lfts ...   \n",
              "...            ...                                                ...   \n",
              "30130      RESULTS  there was a statistically significant between-...   \n",
              "30131      RESULTS  there were no statistically significant betwee...   \n",
              "30132      RESULTS  there was no significant association between s...   \n",
              "30133      RESULTS                 no adverse effects were reported .   \n",
              "30134  CONCLUSIONS  performing a @-week do-as-tolerated program of...   \n",
              "\n",
              "       line_number  total_lines  \n",
              "0                0            8  \n",
              "1                1            8  \n",
              "2                2            8  \n",
              "3                3            8  \n",
              "4                4            8  \n",
              "...            ...          ...  \n",
              "30130           13           17  \n",
              "30131           14           17  \n",
              "30132           15           17  \n",
              "30133           16           17  \n",
              "30134           17           17  \n",
              "\n",
              "[30135 rows x 4 columns]"
            ],
            "text/html": [
              "\n",
              "  <div id=\"df-d1053ece-d6db-4a33-950f-99c5325c7ab0\">\n",
              "    <div class=\"colab-df-container\">\n",
              "      <div>\n",
              "<style scoped>\n",
              "    .dataframe tbody tr th:only-of-type {\n",
              "        vertical-align: middle;\n",
              "    }\n",
              "\n",
              "    .dataframe tbody tr th {\n",
              "        vertical-align: top;\n",
              "    }\n",
              "\n",
              "    .dataframe thead th {\n",
              "        text-align: right;\n",
              "    }\n",
              "</style>\n",
              "<table border=\"1\" class=\"dataframe\">\n",
              "  <thead>\n",
              "    <tr style=\"text-align: right;\">\n",
              "      <th></th>\n",
              "      <th>target</th>\n",
              "      <th>text</th>\n",
              "      <th>line_number</th>\n",
              "      <th>total_lines</th>\n",
              "    </tr>\n",
              "  </thead>\n",
              "  <tbody>\n",
              "    <tr>\n",
              "      <th>0</th>\n",
              "      <td>BACKGROUND</td>\n",
              "      <td>this study analyzed liver function abnormaliti...</td>\n",
              "      <td>0</td>\n",
              "      <td>8</td>\n",
              "    </tr>\n",
              "    <tr>\n",
              "      <th>1</th>\n",
              "      <td>RESULTS</td>\n",
              "      <td>a post hoc analysis was conducted with the use...</td>\n",
              "      <td>1</td>\n",
              "      <td>8</td>\n",
              "    </tr>\n",
              "    <tr>\n",
              "      <th>2</th>\n",
              "      <td>RESULTS</td>\n",
              "      <td>liver function tests ( lfts ) were measured at...</td>\n",
              "      <td>2</td>\n",
              "      <td>8</td>\n",
              "    </tr>\n",
              "    <tr>\n",
              "      <th>3</th>\n",
              "      <td>RESULTS</td>\n",
              "      <td>survival analyses were used to assess the asso...</td>\n",
              "      <td>3</td>\n",
              "      <td>8</td>\n",
              "    </tr>\n",
              "    <tr>\n",
              "      <th>4</th>\n",
              "      <td>RESULTS</td>\n",
              "      <td>the percentage of patients with abnormal lfts ...</td>\n",
              "      <td>4</td>\n",
              "      <td>8</td>\n",
              "    </tr>\n",
              "    <tr>\n",
              "      <th>...</th>\n",
              "      <td>...</td>\n",
              "      <td>...</td>\n",
              "      <td>...</td>\n",
              "      <td>...</td>\n",
              "    </tr>\n",
              "    <tr>\n",
              "      <th>30130</th>\n",
              "      <td>RESULTS</td>\n",
              "      <td>there was a statistically significant between-...</td>\n",
              "      <td>13</td>\n",
              "      <td>17</td>\n",
              "    </tr>\n",
              "    <tr>\n",
              "      <th>30131</th>\n",
              "      <td>RESULTS</td>\n",
              "      <td>there were no statistically significant betwee...</td>\n",
              "      <td>14</td>\n",
              "      <td>17</td>\n",
              "    </tr>\n",
              "    <tr>\n",
              "      <th>30132</th>\n",
              "      <td>RESULTS</td>\n",
              "      <td>there was no significant association between s...</td>\n",
              "      <td>15</td>\n",
              "      <td>17</td>\n",
              "    </tr>\n",
              "    <tr>\n",
              "      <th>30133</th>\n",
              "      <td>RESULTS</td>\n",
              "      <td>no adverse effects were reported .</td>\n",
              "      <td>16</td>\n",
              "      <td>17</td>\n",
              "    </tr>\n",
              "    <tr>\n",
              "      <th>30134</th>\n",
              "      <td>CONCLUSIONS</td>\n",
              "      <td>performing a @-week do-as-tolerated program of...</td>\n",
              "      <td>17</td>\n",
              "      <td>17</td>\n",
              "    </tr>\n",
              "  </tbody>\n",
              "</table>\n",
              "<p>30135 rows × 4 columns</p>\n",
              "</div>\n",
              "      <button class=\"colab-df-convert\" onclick=\"convertToInteractive('df-d1053ece-d6db-4a33-950f-99c5325c7ab0')\"\n",
              "              title=\"Convert this dataframe to an interactive table.\"\n",
              "              style=\"display:none;\">\n",
              "        \n",
              "  <svg xmlns=\"http://www.w3.org/2000/svg\" height=\"24px\"viewBox=\"0 0 24 24\"\n",
              "       width=\"24px\">\n",
              "    <path d=\"M0 0h24v24H0V0z\" fill=\"none\"/>\n",
              "    <path d=\"M18.56 5.44l.94 2.06.94-2.06 2.06-.94-2.06-.94-.94-2.06-.94 2.06-2.06.94zm-11 1L8.5 8.5l.94-2.06 2.06-.94-2.06-.94L8.5 2.5l-.94 2.06-2.06.94zm10 10l.94 2.06.94-2.06 2.06-.94-2.06-.94-.94-2.06-.94 2.06-2.06.94z\"/><path d=\"M17.41 7.96l-1.37-1.37c-.4-.4-.92-.59-1.43-.59-.52 0-1.04.2-1.43.59L10.3 9.45l-7.72 7.72c-.78.78-.78 2.05 0 2.83L4 21.41c.39.39.9.59 1.41.59.51 0 1.02-.2 1.41-.59l7.78-7.78 2.81-2.81c.8-.78.8-2.07 0-2.86zM5.41 20L4 18.59l7.72-7.72 1.47 1.35L5.41 20z\"/>\n",
              "  </svg>\n",
              "      </button>\n",
              "      \n",
              "  <style>\n",
              "    .colab-df-container {\n",
              "      display:flex;\n",
              "      flex-wrap:wrap;\n",
              "      gap: 12px;\n",
              "    }\n",
              "\n",
              "    .colab-df-convert {\n",
              "      background-color: #E8F0FE;\n",
              "      border: none;\n",
              "      border-radius: 50%;\n",
              "      cursor: pointer;\n",
              "      display: none;\n",
              "      fill: #1967D2;\n",
              "      height: 32px;\n",
              "      padding: 0 0 0 0;\n",
              "      width: 32px;\n",
              "    }\n",
              "\n",
              "    .colab-df-convert:hover {\n",
              "      background-color: #E2EBFA;\n",
              "      box-shadow: 0px 1px 2px rgba(60, 64, 67, 0.3), 0px 1px 3px 1px rgba(60, 64, 67, 0.15);\n",
              "      fill: #174EA6;\n",
              "    }\n",
              "\n",
              "    [theme=dark] .colab-df-convert {\n",
              "      background-color: #3B4455;\n",
              "      fill: #D2E3FC;\n",
              "    }\n",
              "\n",
              "    [theme=dark] .colab-df-convert:hover {\n",
              "      background-color: #434B5C;\n",
              "      box-shadow: 0px 1px 3px 1px rgba(0, 0, 0, 0.15);\n",
              "      filter: drop-shadow(0px 1px 2px rgba(0, 0, 0, 0.3));\n",
              "      fill: #FFFFFF;\n",
              "    }\n",
              "  </style>\n",
              "\n",
              "      <script>\n",
              "        const buttonEl =\n",
              "          document.querySelector('#df-d1053ece-d6db-4a33-950f-99c5325c7ab0 button.colab-df-convert');\n",
              "        buttonEl.style.display =\n",
              "          google.colab.kernel.accessAllowed ? 'block' : 'none';\n",
              "\n",
              "        async function convertToInteractive(key) {\n",
              "          const element = document.querySelector('#df-d1053ece-d6db-4a33-950f-99c5325c7ab0');\n",
              "          const dataTable =\n",
              "            await google.colab.kernel.invokeFunction('convertToInteractive',\n",
              "                                                     [key], {});\n",
              "          if (!dataTable) return;\n",
              "\n",
              "          const docLinkHtml = 'Like what you see? Visit the ' +\n",
              "            '<a target=\"_blank\" href=https://colab.research.google.com/notebooks/data_table.ipynb>data table notebook</a>'\n",
              "            + ' to learn more about interactive tables.';\n",
              "          element.innerHTML = '';\n",
              "          dataTable['output_type'] = 'display_data';\n",
              "          await google.colab.output.renderOutput(dataTable, element);\n",
              "          const docLink = document.createElement('div');\n",
              "          docLink.innerHTML = docLinkHtml;\n",
              "          element.appendChild(docLink);\n",
              "        }\n",
              "      </script>\n",
              "    </div>\n",
              "  </div>\n",
              "  "
            ]
          },
          "metadata": {},
          "execution_count": 17
        }
      ]
    },
    {
      "cell_type": "code",
      "source": [
        "train_df.target.value_counts()"
      ],
      "metadata": {
        "colab": {
          "base_uri": "https://localhost:8080/"
        },
        "id": "ecYZp5DKY6q5",
        "outputId": "76a98f09-311d-446e-cd31-a2c997ee3c91"
      },
      "execution_count": 18,
      "outputs": [
        {
          "output_type": "execute_result",
          "data": {
            "text/plain": [
              "METHODS        59353\n",
              "RESULTS        57953\n",
              "CONCLUSIONS    27168\n",
              "BACKGROUND     21727\n",
              "OBJECTIVE      13839\n",
              "Name: target, dtype: int64"
            ]
          },
          "metadata": {},
          "execution_count": 18
        }
      ]
    },
    {
      "cell_type": "code",
      "source": [
        "#length of different lines\n",
        "train_df.total_lines.plot.hist()"
      ],
      "metadata": {
        "colab": {
          "base_uri": "https://localhost:8080/",
          "height": 285
        },
        "id": "wNQr-CFQZEIS",
        "outputId": "285d402a-879b-4052-b0be-85334dc940a3"
      },
      "execution_count": 19,
      "outputs": [
        {
          "output_type": "execute_result",
          "data": {
            "text/plain": [
              "<matplotlib.axes._subplots.AxesSubplot at 0x7feb36395c50>"
            ]
          },
          "metadata": {},
          "execution_count": 19
        },
        {
          "output_type": "display_data",
          "data": {
            "text/plain": [
              "<Figure size 432x288 with 1 Axes>"
            ],
            "image/png": "[encoded data removed]"
          },
          "metadata": {
            "needs_background": "light"
          }
        }
      ]
    },
    {
      "cell_type": "code",
      "source": [
        "#Convert abstract text lines into lists\n",
        "train_sentences = train_df[\"text\"].tolist()\n",
        "val_sentences = val_df[\"text\"].tolist()\n",
        "test_sentences = test_df[\"text\"].tolist()\n",
        "len(train_sentences), len(val_sentences), len(test_sentences)"
      ],
      "metadata": {
        "colab": {
          "base_uri": "https://localhost:8080/"
        },
        "id": "-h8WL5i1ZMr9",
        "outputId": "bc801800-4d7d-44d4-e855-9e0d156e40ce"
      },
      "execution_count": 20,
      "outputs": [
        {
          "output_type": "execute_result",
          "data": {
            "text/plain": [
              "(180040, 30212, 30135)"
            ]
          },
          "metadata": {},
          "execution_count": 20
        }
      ]
    },
    {
      "cell_type": "markdown",
      "source": [
        "## Making numeric lables (ML models require numbers)"
      ],
      "metadata": {
        "id": "XJautK-qZgzg"
      }
    },
    {
      "cell_type": "code",
      "source": [
        "# One hot encode labels\n",
        "from sklearn.preprocessing import OneHotEncoder\n",
        "one_hot_encoder = OneHotEncoder(sparse=False)\n",
        "train_labels_one_hot = one_hot_encoder.fit_transform(train_df[\"target\"].to_numpy().reshape(-1, 1))\n",
        "val_labels_one_hot = one_hot_encoder.fit_transform(val_df[\"target\"].to_numpy().reshape(-1, 1))\n",
        "test_labels_one_hot = one_hot_encoder.fit_transform(test_df[\"target\"].to_numpy().reshape(-1, 1))"
      ],
      "metadata": {
        "id": "oP2YJVYBZ6k-"
      },
      "execution_count": 21,
      "outputs": []
    },
    {
      "cell_type": "code",
      "source": [
        "import tensorflow as tf\n",
        "tf.constant(train_labels_one_hot)"
      ],
      "metadata": {
        "colab": {
          "base_uri": "https://localhost:8080/"
        },
        "id": "Hz19p7K9aeUa",
        "outputId": "4f3572d2-d906-4089-b319-0d3df7dc4036"
      },
      "execution_count": 22,
      "outputs": [
        {
          "output_type": "execute_result",
          "data": {
            "text/plain": [
              "<tf.Tensor: shape=(180040, 5), dtype=float64, numpy=\n",
              "array([[0., 0., 0., 1., 0.],\n",
              "       [0., 0., 1., 0., 0.],\n",
              "       [0., 0., 1., 0., 0.],\n",
              "       ...,\n",
              "       [0., 0., 0., 0., 1.],\n",
              "       [0., 1., 0., 0., 0.],\n",
              "       [0., 1., 0., 0., 0.]])>"
            ]
          },
          "metadata": {},
          "execution_count": 22
        }
      ]
    },
    {
      "cell_type": "code",
      "source": [
        "train_labels_one_hot"
      ],
      "metadata": {
        "colab": {
          "base_uri": "https://localhost:8080/"
        },
        "id": "9tfTFYKPap6j",
        "outputId": "d3fcb177-656a-4b65-9e9f-c7889403fe0a"
      },
      "execution_count": 23,
      "outputs": [
        {
          "output_type": "execute_result",
          "data": {
            "text/plain": [
              "array([[0., 0., 0., 1., 0.],\n",
              "       [0., 0., 1., 0., 0.],\n",
              "       [0., 0., 1., 0., 0.],\n",
              "       ...,\n",
              "       [0., 0., 0., 0., 1.],\n",
              "       [0., 1., 0., 0., 0.],\n",
              "       [0., 1., 0., 0., 0.]])"
            ]
          },
          "metadata": {},
          "execution_count": 23
        }
      ]
    },
    {
      "cell_type": "code",
      "source": [
        "# Extract labels (\"target\" columns) and encode them into integers \n",
        "from sklearn.preprocessing import LabelEncoder\n",
        "label_encoder = LabelEncoder()\n",
        "train_labels_encoded = label_encoder.fit_transform(train_df[\"target\"].to_numpy())\n",
        "val_labels_encoded = label_encoder.transform(val_df[\"target\"].to_numpy())\n",
        "test_labels_encoded = label_encoder.transform(test_df[\"target\"].to_numpy())\n",
        "\n",
        "# Check what training labels look like\n",
        "train_labels_encoded"
      ],
      "metadata": {
        "colab": {
          "base_uri": "https://localhost:8080/"
        },
        "id": "HTSBM2r2auZv",
        "outputId": "2819126e-d2f5-4a76-caf1-d83ee17576be"
      },
      "execution_count": 24,
      "outputs": [
        {
          "output_type": "execute_result",
          "data": {
            "text/plain": [
              "array([3, 2, 2, ..., 4, 1, 1])"
            ]
          },
          "metadata": {},
          "execution_count": 24
        }
      ]
    },
    {
      "cell_type": "code",
      "source": [
        "train_labels_encoded"
      ],
      "metadata": {
        "colab": {
          "base_uri": "https://localhost:8080/"
        },
        "id": "BTmJF41Qba0f",
        "outputId": "ff320521-8252-46ac-f64c-25eabc055a1d"
      },
      "execution_count": 25,
      "outputs": [
        {
          "output_type": "execute_result",
          "data": {
            "text/plain": [
              "array([3, 2, 2, ..., 4, 1, 1])"
            ]
          },
          "metadata": {},
          "execution_count": 25
        }
      ]
    },
    {
      "cell_type": "code",
      "source": [
        "label_encoder.classes_"
      ],
      "metadata": {
        "colab": {
          "base_uri": "https://localhost:8080/"
        },
        "id": "a8OZNU4LbdwW",
        "outputId": "abd419ce-5c9d-4a3a-ece8-a432b0b05b3c"
      },
      "execution_count": 26,
      "outputs": [
        {
          "output_type": "execute_result",
          "data": {
            "text/plain": [
              "array(['BACKGROUND', 'CONCLUSIONS', 'METHODS', 'OBJECTIVE', 'RESULTS'],\n",
              "      dtype=object)"
            ]
          },
          "metadata": {},
          "execution_count": 26
        }
      ]
    },
    {
      "cell_type": "code",
      "source": [
        "#Model 0: Baseline Model - Naive Bayes TF-IDF Encoder\n",
        "from sklearn.feature_extraction.text import TfidfVectorizer\n",
        "from sklearn.naive_bayes import MultinomialNB\n",
        "from sklearn.pipeline import Pipeline\n",
        "\n",
        "model_0 = Pipeline([\n",
        "    (\"tf-idf\", TfidfVectorizer()),\n",
        "    (\"clf\", MultinomialNB())\n",
        "])\n",
        "\n",
        "#fitting the pipelien\n",
        "model_0.fit(X=train_sentences, y=train_labels_encoded)"
      ],
      "metadata": {
        "colab": {
          "base_uri": "https://localhost:8080/"
        },
        "id": "sHXA1iWBbpXB",
        "outputId": "b5db22c8-8857-4055-e0c8-4265963fed05"
      },
      "execution_count": 27,
      "outputs": [
        {
          "output_type": "execute_result",
          "data": {
            "text/plain": [
              "Pipeline(steps=[('tf-idf', TfidfVectorizer()), ('clf', MultinomialNB())])"
            ]
          },
          "metadata": {},
          "execution_count": 27
        }
      ]
    },
    {
      "cell_type": "code",
      "source": [
        "#evaluate\n",
        "model_0.score(X=val_sentences,\n",
        "              y=val_labels_encoded)"
      ],
      "metadata": {
        "colab": {
          "base_uri": "https://localhost:8080/"
        },
        "id": "XcF7zPd1cuxI",
        "outputId": "918ffd42-4df7-425a-f2fa-97335a0cbab0"
      },
      "execution_count": 28,
      "outputs": [
        {
          "output_type": "execute_result",
          "data": {
            "text/plain": [
              "0.7218323844829869"
            ]
          },
          "metadata": {},
          "execution_count": 28
        }
      ]
    },
    {
      "cell_type": "code",
      "source": [
        "#make predictions\n",
        "baseline_preds = model_0.predict(val_sentences)\n",
        "baseline_preds"
      ],
      "metadata": {
        "colab": {
          "base_uri": "https://localhost:8080/"
        },
        "id": "MOBs8GeSdAjS",
        "outputId": "9e77a6fc-faa1-4cfd-e5db-a6d84105052f"
      },
      "execution_count": 29,
      "outputs": [
        {
          "output_type": "execute_result",
          "data": {
            "text/plain": [
              "array([4, 1, 3, ..., 4, 4, 1])"
            ]
          },
          "metadata": {},
          "execution_count": 29
        }
      ]
    },
    {
      "cell_type": "code",
      "source": [
        "val_labels_encoded"
      ],
      "metadata": {
        "colab": {
          "base_uri": "https://localhost:8080/"
        },
        "id": "aotcFRUddNtq",
        "outputId": "1102a935-ad66-4c17-ce20-91b6882dfa55"
      },
      "execution_count": 30,
      "outputs": [
        {
          "output_type": "execute_result",
          "data": {
            "text/plain": [
              "array([0, 0, 3, ..., 4, 1, 1])"
            ]
          },
          "metadata": {},
          "execution_count": 30
        }
      ]
    },
    {
      "cell_type": "code",
      "source": [
        "##download helper functions script\n",
        "!wget https://raw.githubusercontent.com/mrdbourke/tensorflow-deep-learning/main/extras/helper_functions.py"
      ],
      "metadata": {
        "colab": {
          "base_uri": "https://localhost:8080/"
        },
        "id": "tjMkIFMJehVO",
        "outputId": "5b1f0d80-8387-4c00-cea6-af3bb74560c7"
      },
      "execution_count": 31,
      "outputs": [
        {
          "output_type": "stream",
          "name": "stdout",
          "text": [
            "--2022-08-11 22:48:27--  https://raw.githubusercontent.com/mrdbourke/tensorflow-deep-learning/main/extras/helper_functions.py\n",
            "Resolving raw.githubusercontent.com (raw.githubusercontent.com)... 185.199.108.133, 185.199.109.133, 185.199.110.133, ...\n",
            "Connecting to raw.githubusercontent.com (raw.githubusercontent.com)|185.199.108.133|:443... connected.\n",
            "HTTP request sent, awaiting response... 200 OK\n",
            "Length: 10246 (10K) [text/plain]\n",
            "Saving to: ‘helper_functions.py’\n",
            "\n",
            "helper_functions.py 100%[===================>]  10.01K  --.-KB/s    in 0s      \n",
            "\n",
            "2022-08-11 22:48:27 (70.4 MB/s) - ‘helper_functions.py’ saved [10246/10246]\n",
            "\n"
          ]
        }
      ]
    },
    {
      "cell_type": "code",
      "source": [
        "from helper_functions import calculate_results"
      ],
      "metadata": {
        "id": "xBHchs7VeuTh"
      },
      "execution_count": 32,
      "outputs": []
    },
    {
      "cell_type": "code",
      "source": [
        "baseline_results = calculate_results(val_labels_encoded,\n",
        "                                   baseline_preds)"
      ],
      "metadata": {
        "id": "V5BHDXbEe0FI"
      },
      "execution_count": 33,
      "outputs": []
    },
    {
      "cell_type": "code",
      "source": [
        "baseline_results"
      ],
      "metadata": {
        "colab": {
          "base_uri": "https://localhost:8080/"
        },
        "id": "m_RHfMTse6Nz",
        "outputId": "52eede3e-1640-44c4-beab-0a29e627d8c0"
      },
      "execution_count": 34,
      "outputs": [
        {
          "output_type": "execute_result",
          "data": {
            "text/plain": [
              "{'accuracy': 72.1832384482987,\n",
              " 'f1': 0.6989250353450294,\n",
              " 'precision': 0.7186466952323352,\n",
              " 'recall': 0.7218323844829869}"
            ]
          },
          "metadata": {},
          "execution_count": 34
        }
      ]
    },
    {
      "cell_type": "markdown",
      "source": [
        "## Preparing text for deep sequence models using tokenization and embedding"
      ],
      "metadata": {
        "id": "wgquXh5he-Oq"
      }
    },
    {
      "cell_type": "code",
      "source": [
        "import numpy as np\n",
        "import tensorflow as tf\n",
        "from tensorflow.keras import layers"
      ],
      "metadata": {
        "id": "XgpAMcVhfOsP"
      },
      "execution_count": 35,
      "outputs": []
    },
    {
      "cell_type": "code",
      "source": [
        "#How long is each sentence on average\n",
        "sent_lens = [len(sentence.split()) for sentence in train_sentences]"
      ],
      "metadata": {
        "id": "BxUSgo-tfaL_"
      },
      "execution_count": 36,
      "outputs": []
    },
    {
      "cell_type": "code",
      "source": [
        "sent_lens"
      ],
      "metadata": {
        "colab": {
          "base_uri": "https://localhost:8080/"
        },
        "id": "5mk3r_OLflEr",
        "outputId": "132d8754-1e41-4eee-8e7b-126f47f529c6"
      },
      "execution_count": 37,
      "outputs": [
        {
          "output_type": "execute_result",
          "data": {
            "text/plain": [
              "[49,\n",
              " 27,\n",
              " 15,\n",
              " 14,\n",
              " 35,\n",
              " 29,\n",
              " 30,\n",
              " 55,\n",
              " 36,\n",
              " 8,\n",
              " 32,\n",
              " 39,\n",
              " 12,\n",
              " 26,\n",
              " 33,\n",
              " 40,\n",
              " 22,\n",
              " 23,\n",
              " 27,\n",
              " 26,\n",
              " 27,\n",
              " 34,\n",
              " 41,\n",
              " 18,\n",
              " 9,\n",
              " 23,\n",
              " 59,\n",
              " 16,\n",
              " 18,\n",
              " 22,\n",
              " 17,\n",
              " 51,\n",
              " 8,\n",
              " 17,\n",
              " 16,\n",
              " 5,\n",
              " 21,\n",
              " 4,\n",
              " 42,\n",
              " 50,\n",
              " 11,\n",
              " 19,\n",
              " 20,\n",
              " 29,\n",
              " 36,\n",
              " 44,\n",
              " 39,\n",
              " 25,\n",
              " 19,\n",
              " 24,\n",
              " 19,\n",
              " 14,\n",
              " 11,\n",
              " 18,\n",
              " 16,\n",
              " 26,\n",
              " 16,\n",
              " 18,\n",
              " 38,\n",
              " 28,\n",
              " 21,\n",
              " 18,\n",
              " 22,\n",
              " 9,\n",
              " 37,\n",
              " 6,\n",
              " 32,\n",
              " 21,\n",
              " 26,\n",
              " 25,\n",
              " 18,\n",
              " 21,\n",
              " 20,\n",
              " 12,\n",
              " 26,\n",
              " 16,\n",
              " 23,\n",
              " 19,\n",
              " 16,\n",
              " 39,\n",
              " 19,\n",
              " 14,\n",
              " 37,\n",
              " 34,\n",
              " 15,\n",
              " 47,\n",
              " 26,\n",
              " 87,\n",
              " 17,\n",
              " 29,\n",
              " 31,\n",
              " 13,\n",
              " 37,\n",
              " 28,\n",
              " 35,\n",
              " 60,\n",
              " 64,\n",
              " 66,\n",
              " 8,\n",
              " 12,\n",
              " 17,\n",
              " 40,\n",
              " 43,\n",
              " 37,\n",
              " 47,\n",
              " 6,\n",
              " 40,\n",
              " 64,\n",
              " 20,\n",
              " 32,\n",
              " 53,\n",
              " 16,\n",
              " 30,\n",
              " 54,\n",
              " 51,\n",
              " 19,\n",
              " 28,\n",
              " 32,\n",
              " 36,\n",
              " 40,\n",
              " 13,\n",
              " 25,\n",
              " 30,\n",
              " 23,\n",
              " 17,\n",
              " 15,\n",
              " 20,\n",
              " 50,\n",
              " 12,\n",
              " 16,\n",
              " 27,\n",
              " 24,\n",
              " 10,\n",
              " 24,\n",
              " 5,\n",
              " 14,\n",
              " 19,\n",
              " 32,\n",
              " 13,\n",
              " 21,\n",
              " 23,\n",
              " 10,\n",
              " 11,\n",
              " 17,\n",
              " 12,\n",
              " 21,\n",
              " 21,\n",
              " 15,\n",
              " 17,\n",
              " 21,\n",
              " 18,\n",
              " 40,\n",
              " 33,\n",
              " 21,\n",
              " 41,\n",
              " 21,\n",
              " 13,\n",
              " 29,\n",
              " 28,\n",
              " 13,\n",
              " 44,\n",
              " 20,\n",
              " 31,\n",
              " 8,\n",
              " 29,\n",
              " 13,\n",
              " 116,\n",
              " 27,\n",
              " 26,\n",
              " 32,\n",
              " 34,\n",
              " 17,\n",
              " 23,\n",
              " 20,\n",
              " 29,\n",
              " 11,\n",
              " 7,\n",
              " 17,\n",
              " 31,\n",
              " 43,\n",
              " 36,\n",
              " 17,\n",
              " 31,\n",
              " 17,\n",
              " 42,\n",
              " 18,\n",
              " 39,\n",
              " 29,\n",
              " 30,\n",
              " 24,\n",
              " 81,\n",
              " 19,\n",
              " 19,\n",
              " 33,\n",
              " 22,\n",
              " 11,\n",
              " 55,\n",
              " 11,\n",
              " 14,\n",
              " 28,\n",
              " 42,\n",
              " 34,\n",
              " 44,\n",
              " 15,\n",
              " 22,\n",
              " 44,\n",
              " 34,\n",
              " 29,\n",
              " 14,\n",
              " 54,\n",
              " 33,\n",
              " 80,\n",
              " 38,\n",
              " 15,\n",
              " 19,\n",
              " 30,\n",
              " 51,\n",
              " 20,\n",
              " 57,\n",
              " 13,\n",
              " 34,\n",
              " 34,\n",
              " 29,\n",
              " 22,\n",
              " 15,\n",
              " 23,\n",
              " 32,\n",
              " 11,\n",
              " 12,\n",
              " 17,\n",
              " 15,\n",
              " 4,\n",
              " 7,\n",
              " 38,\n",
              " 14,\n",
              " 10,\n",
              " 6,\n",
              " 26,\n",
              " 15,\n",
              " 60,\n",
              " 22,\n",
              " 12,\n",
              " 27,\n",
              " 16,\n",
              " 11,\n",
              " 23,\n",
              " 8,\n",
              " 17,\n",
              " 7,\n",
              " 27,\n",
              " 27,\n",
              " 35,\n",
              " 34,\n",
              " 8,\n",
              " 22,\n",
              " 27,\n",
              " 38,\n",
              " 23,\n",
              " 21,\n",
              " 16,\n",
              " 4,\n",
              " 2,\n",
              " 37,\n",
              " 20,\n",
              " 25,\n",
              " 36,\n",
              " 19,\n",
              " 26,\n",
              " 31,\n",
              " 28,\n",
              " 20,\n",
              " 21,\n",
              " 15,\n",
              " 10,\n",
              " 2,\n",
              " 43,\n",
              " 18,\n",
              " 49,\n",
              " 24,\n",
              " 19,\n",
              " 36,\n",
              " 24,\n",
              " 28,\n",
              " 37,\n",
              " 26,\n",
              " 17,\n",
              " 25,\n",
              " 57,\n",
              " 20,\n",
              " 9,\n",
              " 16,\n",
              " 10,\n",
              " 11,\n",
              " 87,\n",
              " 41,\n",
              " 45,\n",
              " 44,\n",
              " 15,\n",
              " 11,\n",
              " 17,\n",
              " 11,\n",
              " 5,\n",
              " 6,\n",
              " 31,\n",
              " 31,\n",
              " 20,\n",
              " 16,\n",
              " 13,\n",
              " 24,\n",
              " 37,\n",
              " 14,\n",
              " 28,\n",
              " 17,\n",
              " 19,\n",
              " 27,\n",
              " 17,\n",
              " 25,\n",
              " 15,\n",
              " 16,\n",
              " 21,\n",
              " 25,\n",
              " 23,\n",
              " 23,\n",
              " 7,\n",
              " 16,\n",
              " 21,\n",
              " 13,\n",
              " 33,\n",
              " 34,\n",
              " 11,\n",
              " 46,\n",
              " 52,\n",
              " 24,\n",
              " 8,\n",
              " 16,\n",
              " 22,\n",
              " 20,\n",
              " 13,\n",
              " 25,\n",
              " 30,\n",
              " 13,\n",
              " 9,\n",
              " 16,\n",
              " 22,\n",
              " 39,\n",
              " 15,\n",
              " 15,\n",
              " 24,\n",
              " 25,\n",
              " 20,\n",
              " 35,\n",
              " 26,\n",
              " 24,\n",
              " 27,\n",
              " 29,\n",
              " 30,\n",
              " 10,\n",
              " 23,\n",
              " 22,\n",
              " 35,\n",
              " 60,\n",
              " 34,\n",
              " 15,\n",
              " 11,\n",
              " 30,\n",
              " 50,\n",
              " 18,\n",
              " 73,\n",
              " 8,\n",
              " 13,\n",
              " 25,\n",
              " 14,\n",
              " 14,\n",
              " 7,\n",
              " 46,\n",
              " 13,\n",
              " 20,\n",
              " 22,\n",
              " 30,\n",
              " 21,\n",
              " 22,\n",
              " 17,\n",
              " 30,\n",
              " 10,\n",
              " 17,\n",
              " 45,\n",
              " 20,\n",
              " 14,\n",
              " 9,\n",
              " 23,\n",
              " 14,\n",
              " 12,\n",
              " 26,\n",
              " 14,\n",
              " 27,\n",
              " 15,\n",
              " 33,\n",
              " 16,\n",
              " 12,\n",
              " 15,\n",
              " 22,\n",
              " 15,\n",
              " 30,\n",
              " 36,\n",
              " 30,\n",
              " 19,\n",
              " 30,\n",
              " 21,\n",
              " 37,\n",
              " 23,\n",
              " 29,\n",
              " 17,\n",
              " 60,\n",
              " 15,\n",
              " 23,\n",
              " 45,\n",
              " 29,\n",
              " 20,\n",
              " 22,\n",
              " 7,\n",
              " 17,\n",
              " 18,\n",
              " 19,\n",
              " 19,\n",
              " 12,\n",
              " 18,\n",
              " 15,\n",
              " 29,\n",
              " 22,\n",
              " 21,\n",
              " 18,\n",
              " 11,\n",
              " 14,\n",
              " 75,\n",
              " 38,\n",
              " 43,\n",
              " 25,\n",
              " 10,\n",
              " 12,\n",
              " 25,\n",
              " 12,\n",
              " 23,\n",
              " 36,\n",
              " 59,\n",
              " 7,\n",
              " 120,\n",
              " 17,\n",
              " 43,\n",
              " 9,\n",
              " 37,\n",
              " 42,\n",
              " 15,\n",
              " 17,\n",
              " 26,\n",
              " 35,\n",
              " 17,\n",
              " 30,\n",
              " 19,\n",
              " 23,\n",
              " 44,\n",
              " 12,\n",
              " 25,\n",
              " 11,\n",
              " 25,\n",
              " 38,\n",
              " 26,\n",
              " 56,\n",
              " 42,\n",
              " 25,\n",
              " 38,\n",
              " 22,\n",
              " 19,\n",
              " 11,\n",
              " 11,\n",
              " 27,\n",
              " 34,\n",
              " 20,\n",
              " 24,\n",
              " 10,\n",
              " 30,\n",
              " 27,\n",
              " 30,\n",
              " 4,\n",
              " 2,\n",
              " 4,\n",
              " 21,\n",
              " 33,\n",
              " 33,\n",
              " 12,\n",
              " 35,\n",
              " 22,\n",
              " 8,\n",
              " 18,\n",
              " 10,\n",
              " 10,\n",
              " 6,\n",
              " 15,\n",
              " 78,\n",
              " 15,\n",
              " 32,\n",
              " 27,\n",
              " 6,\n",
              " 27,\n",
              " 45,\n",
              " 16,\n",
              " 33,\n",
              " 46,\n",
              " 18,\n",
              " 17,\n",
              " 14,\n",
              " 27,\n",
              " 23,\n",
              " 13,\n",
              " 22,\n",
              " 21,\n",
              " 11,\n",
              " 20,\n",
              " 27,\n",
              " 26,\n",
              " 43,\n",
              " 17,\n",
              " 11,\n",
              " 15,\n",
              " 30,\n",
              " 17,\n",
              " 32,\n",
              " 87,\n",
              " 18,\n",
              " 20,\n",
              " 23,\n",
              " 25,\n",
              " 12,\n",
              " 22,\n",
              " 22,\n",
              " 28,\n",
              " 52,\n",
              " 29,\n",
              " 23,\n",
              " 30,\n",
              " 67,\n",
              " 47,\n",
              " 25,\n",
              " 19,\n",
              " 32,\n",
              " 35,\n",
              " 35,\n",
              " 26,\n",
              " 27,\n",
              " 27,\n",
              " 19,\n",
              " 13,\n",
              " 27,\n",
              " 27,\n",
              " 26,\n",
              " 33,\n",
              " 22,\n",
              " 40,\n",
              " 25,\n",
              " 17,\n",
              " 9,\n",
              " 8,\n",
              " 38,\n",
              " 49,\n",
              " 30,\n",
              " 59,\n",
              " 54,\n",
              " 24,\n",
              " 26,\n",
              " 13,\n",
              " 22,\n",
              " 23,\n",
              " 53,\n",
              " 14,\n",
              " 78,\n",
              " 34,\n",
              " 40,\n",
              " 52,\n",
              " 26,\n",
              " 43,\n",
              " 16,\n",
              " 19,\n",
              " 27,\n",
              " 14,\n",
              " 21,\n",
              " 30,\n",
              " 8,\n",
              " 40,\n",
              " 19,\n",
              " 13,\n",
              " 19,\n",
              " 34,\n",
              " 8,\n",
              " 23,\n",
              " 32,\n",
              " 9,\n",
              " 37,\n",
              " 15,\n",
              " 85,\n",
              " 36,\n",
              " 45,\n",
              " 62,\n",
              " 111,\n",
              " 111,\n",
              " 65,\n",
              " 25,\n",
              " 22,\n",
              " 32,\n",
              " 14,\n",
              " 51,\n",
              " 47,\n",
              " 17,\n",
              " 42,\n",
              " 16,\n",
              " 10,\n",
              " 19,\n",
              " 33,\n",
              " 20,\n",
              " 24,\n",
              " 24,\n",
              " 28,\n",
              " 42,\n",
              " 23,\n",
              " 23,\n",
              " 20,\n",
              " 20,\n",
              " 21,\n",
              " 16,\n",
              " 35,\n",
              " 10,\n",
              " 30,\n",
              " 11,\n",
              " 14,\n",
              " 17,\n",
              " 36,\n",
              " 26,\n",
              " 30,\n",
              " 32,\n",
              " 6,\n",
              " 13,\n",
              " 26,\n",
              " 48,\n",
              " 42,\n",
              " 23,\n",
              " 32,\n",
              " 25,\n",
              " 14,\n",
              " 34,\n",
              " 42,\n",
              " 14,\n",
              " 20,\n",
              " 35,\n",
              " 25,\n",
              " 6,\n",
              " 22,\n",
              " 26,\n",
              " 55,\n",
              " 28,\n",
              " 16,\n",
              " 30,\n",
              " 45,\n",
              " 12,\n",
              " 70,\n",
              " 21,\n",
              " 23,\n",
              " 5,\n",
              " 24,\n",
              " 53,\n",
              " 16,\n",
              " 14,\n",
              " 59,\n",
              " 37,\n",
              " 25,\n",
              " 29,\n",
              " 16,\n",
              " 7,\n",
              " 23,\n",
              " 18,\n",
              " 19,\n",
              " 20,\n",
              " 23,\n",
              " 42,\n",
              " 33,\n",
              " 34,\n",
              " 21,\n",
              " 24,\n",
              " 18,\n",
              " 14,\n",
              " 27,\n",
              " 57,\n",
              " 12,\n",
              " 54,\n",
              " 39,\n",
              " 38,\n",
              " 51,\n",
              " 36,\n",
              " 23,\n",
              " 31,\n",
              " 63,\n",
              " 13,\n",
              " 23,\n",
              " 22,\n",
              " 19,\n",
              " 11,\n",
              " 18,\n",
              " 21,\n",
              " 30,\n",
              " 14,\n",
              " 13,\n",
              " 12,\n",
              " 18,\n",
              " 9,\n",
              " 17,\n",
              " 27,\n",
              " 16,\n",
              " 38,\n",
              " 10,\n",
              " 13,\n",
              " 17,\n",
              " 14,\n",
              " 13,\n",
              " 25,\n",
              " 10,\n",
              " 20,\n",
              " 24,\n",
              " 32,\n",
              " 28,\n",
              " 62,\n",
              " 35,\n",
              " 42,\n",
              " 20,\n",
              " 16,\n",
              " 12,\n",
              " 28,\n",
              " 23,\n",
              " 19,\n",
              " 21,\n",
              " 34,\n",
              " 26,\n",
              " 14,\n",
              " 12,\n",
              " 9,\n",
              " 18,\n",
              " 19,\n",
              " 21,\n",
              " 45,\n",
              " 16,\n",
              " 24,\n",
              " 70,\n",
              " 32,\n",
              " 33,\n",
              " 29,\n",
              " 28,\n",
              " 32,\n",
              " 24,\n",
              " 26,\n",
              " 37,\n",
              " 30,\n",
              " 16,\n",
              " 20,\n",
              " 15,\n",
              " 29,\n",
              " 10,\n",
              " 35,\n",
              " 15,\n",
              " 16,\n",
              " 25,\n",
              " 38,\n",
              " 20,\n",
              " 30,\n",
              " 22,\n",
              " 44,\n",
              " 64,\n",
              " 40,\n",
              " 87,\n",
              " 7,\n",
              " 27,\n",
              " 11,\n",
              " 16,\n",
              " 30,\n",
              " 20,\n",
              " 18,\n",
              " 43,\n",
              " 13,\n",
              " 59,\n",
              " 38,\n",
              " 29,\n",
              " 34,\n",
              " 33,\n",
              " 4,\n",
              " 28,\n",
              " 21,\n",
              " 3,\n",
              " 18,\n",
              " 29,\n",
              " 23,\n",
              " 28,\n",
              " 18,\n",
              " 18,\n",
              " 14,\n",
              " 20,\n",
              " 30,\n",
              " 7,\n",
              " 14,\n",
              " 3,\n",
              " 39,\n",
              " 20,\n",
              " 21,\n",
              " 35,\n",
              " 10,\n",
              " 22,\n",
              " 21,\n",
              " 19,\n",
              " 36,\n",
              " 39,\n",
              " 2,\n",
              " 22,\n",
              " 24,\n",
              " 26,\n",
              " 11,\n",
              " 8,\n",
              " 53,\n",
              " 41,\n",
              " 34,\n",
              " 27,\n",
              " 38,\n",
              " 32,\n",
              " 44,\n",
              " 32,\n",
              " 34,\n",
              " 48,\n",
              " 36,\n",
              " 36,\n",
              " 37,\n",
              " 12,\n",
              " 22,\n",
              " 22,\n",
              " 13,\n",
              " 16,\n",
              " 12,\n",
              " 14,\n",
              " 12,\n",
              " 26,\n",
              " 22,\n",
              " 30,\n",
              " 24,\n",
              " 24,\n",
              " 30,\n",
              " 46,\n",
              " 27,\n",
              " 27,\n",
              " 27,\n",
              " 28,\n",
              " 37,\n",
              " 34,\n",
              " 14,\n",
              " 21,\n",
              " 39,\n",
              " 16,\n",
              " 26,\n",
              " 21,\n",
              " 8,\n",
              " 24,\n",
              " 26,\n",
              " 8,\n",
              " 81,\n",
              " 36,\n",
              " 12,\n",
              " 19,\n",
              " 21,\n",
              " 19,\n",
              " 43,\n",
              " 19,\n",
              " 14,\n",
              " 35,\n",
              " 21,\n",
              " 21,\n",
              " 42,\n",
              " 38,\n",
              " 34,\n",
              " 27,\n",
              " 21,\n",
              " 32,\n",
              " 25,\n",
              " 28,\n",
              " 23,\n",
              " 31,\n",
              " 48,\n",
              " 84,\n",
              " 19,\n",
              " 22,\n",
              " 22,\n",
              " 33,\n",
              " 24,\n",
              " 30,\n",
              " 15,\n",
              " 24,\n",
              " 27,\n",
              " 11,\n",
              " 19,\n",
              " 18,\n",
              " 21,\n",
              " 55,\n",
              " 50,\n",
              " 32,\n",
              " 40,\n",
              " 40,\n",
              " 17,\n",
              " 17,\n",
              " 20,\n",
              " 50,\n",
              " 6,\n",
              " 12,\n",
              " 26,\n",
              " 20,\n",
              " 17,\n",
              " 8,\n",
              " 11,\n",
              " 14,\n",
              " 39,\n",
              " 47,\n",
              " 34,\n",
              " 32,\n",
              " 22,\n",
              " 41,\n",
              " 77,\n",
              " 27,\n",
              " 26,\n",
              " 8,\n",
              " 10,\n",
              " 34,\n",
              " 28,\n",
              " 27,\n",
              " 30,\n",
              " 32,\n",
              " 32,\n",
              " 65,\n",
              " 25,\n",
              " 18,\n",
              " 14,\n",
              " 37,\n",
              " 9,\n",
              " 76,\n",
              " 12,\n",
              " 22,\n",
              " 35,\n",
              " 23,\n",
              " 8,\n",
              " 19,\n",
              " 19,\n",
              " 17,\n",
              " 11,\n",
              " 33,\n",
              " 8,\n",
              " 11,\n",
              " 15,\n",
              " 24,\n",
              " 27,\n",
              " 6,\n",
              " 16,\n",
              " 59,\n",
              " 34,\n",
              " 24,\n",
              " 10,\n",
              " 37,\n",
              " 51,\n",
              " 11,\n",
              " 12,\n",
              " 22,\n",
              " 19,\n",
              " 15,\n",
              " 19,\n",
              " 23,\n",
              " 13,\n",
              " 25,\n",
              " 9,\n",
              " 29,\n",
              " 16,\n",
              " 7,\n",
              " 29,\n",
              " 24,\n",
              " 25,\n",
              " 22,\n",
              " 20,\n",
              " 14,\n",
              " 33,\n",
              " 11,\n",
              " 11,\n",
              " 21,\n",
              " 18,\n",
              " 50,\n",
              " 35,\n",
              " 22,\n",
              " 34,\n",
              " 63,\n",
              " 23,\n",
              " 53,\n",
              " 19,\n",
              " 12,\n",
              " 15,\n",
              " 17,\n",
              " ...]"
            ]
          },
          "metadata": {},
          "execution_count": 37
        }
      ]
    },
    {
      "cell_type": "code",
      "source": [
        "avg_sent_len = np.mean(sent_lens)\n",
        "avg_sent_len"
      ],
      "metadata": {
        "colab": {
          "base_uri": "https://localhost:8080/"
        },
        "id": "_LjB1r4pfmKP",
        "outputId": "d0e43bfe-c38a-4ba1-d602-d3b4d01264fc"
      },
      "execution_count": 38,
      "outputs": [
        {
          "output_type": "execute_result",
          "data": {
            "text/plain": [
              "26.338269273494777"
            ]
          },
          "metadata": {},
          "execution_count": 38
        }
      ]
    },
    {
      "cell_type": "code",
      "source": [
        "import matplotlib.pyplot as plt\n",
        "plt.hist(sent_lens, bins=40)"
      ],
      "metadata": {
        "colab": {
          "base_uri": "https://localhost:8080/",
          "height": 533
        },
        "id": "Rk69E_befqoz",
        "outputId": "a690e8dc-582c-48ce-9b5e-a8841585932e"
      },
      "execution_count": 39,
      "outputs": [
        {
          "output_type": "execute_result",
          "data": {
            "text/plain": [
              "(array([9.1130e+03, 3.2962e+04, 4.9105e+04, 3.4666e+04, 2.2517e+04,\n",
              "        1.4360e+04, 6.8790e+03, 4.0660e+03, 2.5730e+03, 1.3580e+03,\n",
              "        9.3400e+02, 5.1100e+02, 3.3600e+02, 2.2400e+02, 1.3100e+02,\n",
              "        9.5000e+01, 6.8000e+01, 3.3000e+01, 2.5000e+01, 2.0000e+01,\n",
              "        9.0000e+00, 1.1000e+01, 7.0000e+00, 5.0000e+00, 4.0000e+00,\n",
              "        5.0000e+00, 5.0000e+00, 5.0000e+00, 3.0000e+00, 3.0000e+00,\n",
              "        1.0000e+00, 1.0000e+00, 2.0000e+00, 1.0000e+00, 0.0000e+00,\n",
              "        0.0000e+00, 0.0000e+00, 1.0000e+00, 0.0000e+00, 1.0000e+00]),\n",
              " array([  1.   ,   8.375,  15.75 ,  23.125,  30.5  ,  37.875,  45.25 ,\n",
              "         52.625,  60.   ,  67.375,  74.75 ,  82.125,  89.5  ,  96.875,\n",
              "        104.25 , 111.625, 119.   , 126.375, 133.75 , 141.125, 148.5  ,\n",
              "        155.875, 163.25 , 170.625, 178.   , 185.375, 192.75 , 200.125,\n",
              "        207.5  , 214.875, 222.25 , 229.625, 237.   , 244.375, 251.75 ,\n",
              "        259.125, 266.5  , 273.875, 281.25 , 288.625, 296.   ]),\n",
              " <a list of 40 Patch objects>)"
            ]
          },
          "metadata": {},
          "execution_count": 39
        },
        {
          "output_type": "display_data",
          "data": {
            "text/plain": [
              "<Figure size 432x288 with 1 Axes>"
            ],
            "image/png": "[encoded data removed]"
          },
          "metadata": {
            "needs_background": "light"
          }
        }
      ]
    },
    {
      "cell_type": "code",
      "source": [
        "np.percentile(sent_lens, .95)"
      ],
      "metadata": {
        "colab": {
          "base_uri": "https://localhost:8080/"
        },
        "id": "jGh4AvaXf67g",
        "outputId": "e77df44e-4778-4089-e1b1-307e663b8b90"
      },
      "execution_count": 40,
      "outputs": [
        {
          "output_type": "execute_result",
          "data": {
            "text/plain": [
              "4.0"
            ]
          },
          "metadata": {},
          "execution_count": 40
        }
      ]
    },
    {
      "cell_type": "code",
      "source": [
        "output_seq_len = int(np.percentile(sent_lens, 95))"
      ],
      "metadata": {
        "id": "VwaTdUM_gDTs"
      },
      "execution_count": 41,
      "outputs": []
    },
    {
      "cell_type": "code",
      "source": [
        "output_seq_len"
      ],
      "metadata": {
        "colab": {
          "base_uri": "https://localhost:8080/"
        },
        "id": "zQfdvD4_gUfG",
        "outputId": "dc4d8e03-8fb3-4754-9afd-6e4053d28fe9"
      },
      "execution_count": 42,
      "outputs": [
        {
          "output_type": "execute_result",
          "data": {
            "text/plain": [
              "55"
            ]
          },
          "metadata": {},
          "execution_count": 42
        }
      ]
    },
    {
      "cell_type": "code",
      "source": [
        "max(sent_lens)"
      ],
      "metadata": {
        "colab": {
          "base_uri": "https://localhost:8080/"
        },
        "id": "DNKM-W-JgVnT",
        "outputId": "0928fe19-f9de-478c-b81b-92121cd76108"
      },
      "execution_count": 43,
      "outputs": [
        {
          "output_type": "execute_result",
          "data": {
            "text/plain": [
              "296"
            ]
          },
          "metadata": {},
          "execution_count": 43
        }
      ]
    },
    {
      "cell_type": "code",
      "source": [
        "#Text Vectorization\n",
        "#homw many words are in our vocabulary\n",
        "max_tokens = 68000"
      ],
      "metadata": {
        "id": "jRdCp0N7gaqe"
      },
      "execution_count": 44,
      "outputs": []
    },
    {
      "cell_type": "code",
      "source": [
        "from tensorflow.keras.layers.experimental.preprocessing import TextVectorization\n",
        "\n",
        "text_vectorizer = TextVectorization(max_tokens=max_tokens,\n",
        "                                    output_sequence_length=output_seq_len)"
      ],
      "metadata": {
        "id": "4tciNTE_6772"
      },
      "execution_count": 45,
      "outputs": []
    },
    {
      "cell_type": "code",
      "source": [
        "#fitting text vectorizer to our data set\n",
        "text_vectorizer.adapt(train_sentences)"
      ],
      "metadata": {
        "id": "Z_WU07wm7HQl"
      },
      "execution_count": 46,
      "outputs": []
    },
    {
      "cell_type": "code",
      "source": [
        "#test out text_vectorizor on random sentences\n",
        "import random\n",
        "target_sentence = random.choice(train_sentences)\n",
        "print(f\"Text: {target_sentence}\")\n",
        "print(f\"Vectorized Text: {text_vectorizer([target_sentence])}\")"
      ],
      "metadata": {
        "colab": {
          "base_uri": "https://localhost:8080/"
        },
        "id": "zXBhEqDY7pGq",
        "outputId": "7953c85f-8f9f-4584-a848-9933494bb461"
      },
      "execution_count": 47,
      "outputs": [
        {
          "output_type": "stream",
          "name": "stdout",
          "text": [
            "Text: we compared this intervention to an established , in-house udc program ( n = @ ) for its impact on blood glucose control and psychosocial outcomes .\n",
            "Vectorized Text: [[   43    34    23    38     6    26  1016 20403 19369   256    40    11\n",
            "    308   305    18   107   268    35     3  1391    75     0     0     0\n",
            "      0     0     0     0     0     0     0     0     0     0     0     0\n",
            "      0     0     0     0     0     0     0     0     0     0     0     0\n",
            "      0     0     0     0     0     0     0]]\n"
          ]
        }
      ]
    },
    {
      "cell_type": "code",
      "source": [
        "#HOw many words in our training vocabulary\n",
        "rct_20k_text_vocab = text_vectorizer.get_vocabulary()\n",
        "print(f\"Num of words: {len(rct_20k_text_vocab)}\")\n",
        "print(f\"most common words: {rct_20k_text_vocab[:5]}\")\n",
        "print(f\"least common words: {rct_20k_text_vocab[-5:]}\")"
      ],
      "metadata": {
        "colab": {
          "base_uri": "https://localhost:8080/"
        },
        "id": "al9n3M-z79za",
        "outputId": "b0cba527-fc6e-4247-bcce-eb6f765169d7"
      },
      "execution_count": 48,
      "outputs": [
        {
          "output_type": "stream",
          "name": "stdout",
          "text": [
            "Num of words: 64841\n",
            "most common words: ['', '[UNK]', 'the', 'and', 'of']\n",
            "least common words: ['aainduced', 'aaigroup', 'aachener', 'aachen', 'aaacp']\n"
          ]
        }
      ]
    },
    {
      "cell_type": "code",
      "source": [
        "text_vectorizer.get_config()"
      ],
      "metadata": {
        "colab": {
          "base_uri": "https://localhost:8080/"
        },
        "id": "pG0vRoxc8YSP",
        "outputId": "0d43d9c7-8e7f-4161-fe12-3e3c759a02e0"
      },
      "execution_count": 49,
      "outputs": [
        {
          "output_type": "execute_result",
          "data": {
            "text/plain": [
              "{'batch_input_shape': (None,),\n",
              " 'dtype': 'string',\n",
              " 'idf_weights': None,\n",
              " 'max_tokens': 68000,\n",
              " 'name': 'text_vectorization',\n",
              " 'ngrams': None,\n",
              " 'output_mode': 'int',\n",
              " 'output_sequence_length': 55,\n",
              " 'pad_to_max_tokens': False,\n",
              " 'ragged': False,\n",
              " 'sparse': False,\n",
              " 'split': 'whitespace',\n",
              " 'standardize': 'lower_and_strip_punctuation',\n",
              " 'trainable': True,\n",
              " 'vocabulary': None}"
            ]
          },
          "metadata": {},
          "execution_count": 49
        }
      ]
    },
    {
      "cell_type": "code",
      "source": [
        "#Create token embedding layer\n",
        "token_embed = layers.Embedding(input_dim=len(rct_20k_text_vocab),\n",
        "                               output_dim=128,\n",
        "                               mask_zero=True, #using masking to handle vairable sequence lengths\n",
        "                               name=\"token_embedding\")"
      ],
      "metadata": {
        "id": "D1dvYpDE8iA3"
      },
      "execution_count": 50,
      "outputs": []
    },
    {
      "cell_type": "code",
      "source": [
        "#show an example\n",
        "print(f\"sentence before embedding: {target_sentence}\")\n",
        "vectorized_sentence = text_vectorizer([target_sentence])\n",
        "print(f\"setnece after vectorization: {vectorized_sentence}\")\n",
        "embedded_sentence = token_embed(vectorized_sentence)\n",
        "print(f\"embedded sentence: {embedded_sentence}\")\n",
        "print(f\"embedded sentence shape: {embedded_sentence.shape}\")"
      ],
      "metadata": {
        "colab": {
          "base_uri": "https://localhost:8080/"
        },
        "id": "dn2YzQVl9MFY",
        "outputId": "9b1b6604-7195-4912-9292-abdce285d27b"
      },
      "execution_count": 51,
      "outputs": [
        {
          "output_type": "stream",
          "name": "stdout",
          "text": [
            "sentence before embedding: we compared this intervention to an established , in-house udc program ( n = @ ) for its impact on blood glucose control and psychosocial outcomes .\n",
            "setnece after vectorization: [[   43    34    23    38     6    26  1016 20403 19369   256    40    11\n",
            "    308   305    18   107   268    35     3  1391    75     0     0     0\n",
            "      0     0     0     0     0     0     0     0     0     0     0     0\n",
            "      0     0     0     0     0     0     0     0     0     0     0     0\n",
            "      0     0     0     0     0     0     0]]\n",
            "embedded sentence: [[[ 0.02230591  0.02190484  0.04418058 ... -0.00195466  0.01864186\n",
            "   -0.02930063]\n",
            "  [ 0.00161115  0.03193991  0.04714194 ...  0.04362373  0.00670923\n",
            "    0.00298519]\n",
            "  [-0.00601182 -0.0256814   0.04402507 ...  0.0354054  -0.01882845\n",
            "    0.02226292]\n",
            "  ...\n",
            "  [ 0.00494824 -0.03425443  0.04210534 ... -0.02304045 -0.01557586\n",
            "   -0.00544666]\n",
            "  [ 0.00494824 -0.03425443  0.04210534 ... -0.02304045 -0.01557586\n",
            "   -0.00544666]\n",
            "  [ 0.00494824 -0.03425443  0.04210534 ... -0.02304045 -0.01557586\n",
            "   -0.00544666]]]\n",
            "embedded sentence shape: (1, 55, 128)\n"
          ]
        }
      ]
    },
    {
      "cell_type": "code",
      "source": [
        "## Creating datasets \n",
        "#Turn our data into tf datasets\n",
        "train_labels_one_hot = tf.constant(train_labels_one_hot)\n",
        "val_labels_one_hot = tf.constant(val_labels_one_hot)\n",
        "test_labels_one_hot = tf.constant(test_labels_one_hot)\n",
        "\n",
        "train_dataset = tf.data.Dataset.from_tensor_slices((train_sentences, train_labels_one_hot))\n",
        "val_dataset = tf.data.Dataset.from_tensor_slices((val_sentences, val_labels_one_hot))\n",
        "test_dataset = tf.data.Dataset.from_tensor_slices((test_sentences, test_labels_one_hot))\n"
      ],
      "metadata": {
        "id": "bCfxHyzE9kpv"
      },
      "execution_count": 52,
      "outputs": []
    },
    {
      "cell_type": "code",
      "source": [
        "#Take the TensorSliceDataset into prefetched datasets\n",
        "train_dataset = train_dataset.batch(32).prefetch(tf.data.AUTOTUNE)\n",
        "val_dataset = val_dataset.batch(32).prefetch(tf.data.AUTOTUNE)\n",
        "test_dataset = test_dataset.batch(32).prefetch(tf.data.AUTOTUNE)"
      ],
      "metadata": {
        "id": "PtIIciD--Z2Z"
      },
      "execution_count": 53,
      "outputs": []
    },
    {
      "cell_type": "code",
      "source": [
        "train_dataset"
      ],
      "metadata": {
        "colab": {
          "base_uri": "https://localhost:8080/"
        },
        "id": "ryjeIRDhCmUu",
        "outputId": "f833d2c9-d51a-4bc0-d5b4-e721f7a9b431"
      },
      "execution_count": 54,
      "outputs": [
        {
          "output_type": "execute_result",
          "data": {
            "text/plain": [
              "<PrefetchDataset element_spec=(TensorSpec(shape=(None,), dtype=tf.string, name=None), TensorSpec(shape=(None, 5), dtype=tf.float64, name=None))>"
            ]
          },
          "metadata": {},
          "execution_count": 54
        }
      ]
    },
    {
      "cell_type": "code",
      "source": [
        "## Model 1: Conv1D with token embeddings\n",
        "inputs = layers.Input(shape=(1,), dtype=tf.string)\n",
        "text_vectors = text_vectorizer(inputs)\n",
        "token_embeddings = token_embed(text_vectors)\n",
        "x = layers.Conv1D(64, kernel_size=5, padding=\"same\", activation=\"relu\")(token_embeddings)\n",
        "x = layers.GlobalAveragePooling1D()(x)\n",
        "outputs = layers.Dense(5, activation=\"softmax\")(x)\n",
        "model_1 = tf.keras.Model(inputs, outputs)\n",
        "#compile\n",
        "model_1.compile(loss=\"categorical_crossentropy\",\n",
        "                optimizer=tf.keras.optimizers.Adam(),\n",
        "                metrics=[\"accuracy\"])\n",
        "\n"
      ],
      "metadata": {
        "id": "Xp7k7PGSC-CR"
      },
      "execution_count": 55,
      "outputs": []
    },
    {
      "cell_type": "code",
      "source": [
        "model_1.summary()"
      ],
      "metadata": {
        "colab": {
          "base_uri": "https://localhost:8080/"
        },
        "id": "gcXUn49aEFX4",
        "outputId": "33737cc4-fdc0-44a2-82a9-aa20cde615c8"
      },
      "execution_count": 56,
      "outputs": [
        {
          "output_type": "stream",
          "name": "stdout",
          "text": [
            "Model: \"model\"\n",
            "_________________________________________________________________\n",
            " Layer (type)                Output Shape              Param #   \n",
            "=================================================================\n",
            " input_1 (InputLayer)        [(None, 1)]               0         \n",
            "                                                                 \n",
            " text_vectorization (TextVec  (None, 55)               0         \n",
            " torization)                                                     \n",
            "                                                                 \n",
            " token_embedding (Embedding)  (None, 55, 128)          8299648   \n",
            "                                                                 \n",
            " conv1d (Conv1D)             (None, 55, 64)            41024     \n",
            "                                                                 \n",
            " global_average_pooling1d (G  (None, 64)               0         \n",
            " lobalAveragePooling1D)                                          \n",
            "                                                                 \n",
            " dense (Dense)               (None, 5)                 325       \n",
            "                                                                 \n",
            "=================================================================\n",
            "Total params: 8,340,997\n",
            "Trainable params: 8,340,997\n",
            "Non-trainable params: 0\n",
            "_________________________________________________________________\n"
          ]
        }
      ]
    },
    {
      "cell_type": "code",
      "source": [
        "history_model_1 = model_1.fit(train_dataset,\n",
        "                              steps_per_epoch=(0.1*len(train_dataset)),\n",
        "                              epochs=3,\n",
        "                              validation_data=val_dataset,\n",
        "                              validation_steps=(0.1*len(val_dataset)))"
      ],
      "metadata": {
        "colab": {
          "base_uri": "https://localhost:8080/"
        },
        "id": "dd-rXpCyEQIv",
        "outputId": "7d0829f7-8407-4105-bf82-d2adcbebce02"
      },
      "execution_count": 57,
      "outputs": [
        {
          "output_type": "stream",
          "name": "stdout",
          "text": [
            "Epoch 1/3\n",
            "562/562 [==============================] - 16s 9ms/step - loss: 0.9232 - accuracy: 0.6345 - val_loss: 0.6900 - val_accuracy: 0.7385\n",
            "Epoch 2/3\n",
            "562/562 [==============================] - 5s 8ms/step - loss: 0.6511 - accuracy: 0.7590 - val_loss: 0.6296 - val_accuracy: 0.7678\n",
            "Epoch 3/3\n",
            "562/562 [==============================] - 5s 8ms/step - loss: 0.6111 - accuracy: 0.7774 - val_loss: 0.5940 - val_accuracy: 0.7842\n"
          ]
        }
      ]
    },
    {
      "cell_type": "code",
      "source": [
        "#Evaluate on whole validation dtaset\n",
        "model_1.evaluate(val_dataset)"
      ],
      "metadata": {
        "colab": {
          "base_uri": "https://localhost:8080/"
        },
        "id": "DonrvzRGEsrC",
        "outputId": "a4438f32-a4ca-4add-86d7-574bfd4d09ac"
      },
      "execution_count": 58,
      "outputs": [
        {
          "output_type": "stream",
          "name": "stdout",
          "text": [
            "945/945 [==============================] - 3s 3ms/step - loss: 0.5918 - accuracy: 0.7878\n"
          ]
        },
        {
          "output_type": "execute_result",
          "data": {
            "text/plain": [
              "[0.5917629599571228, 0.7878326773643494]"
            ]
          },
          "metadata": {},
          "execution_count": 58
        }
      ]
    },
    {
      "cell_type": "code",
      "source": [
        "#making predictions\n",
        "model_1_pred_probs = model_1.predict(val_dataset)\n",
        "model_1_preds = tf.argmax(model_1_pred_probs, axis=1)\n",
        "model_1_preds"
      ],
      "metadata": {
        "colab": {
          "base_uri": "https://localhost:8080/"
        },
        "id": "u8PGLQXzFHC-",
        "outputId": "ad66f091-4ec5-47ac-d2e1-c62eda390789"
      },
      "execution_count": 59,
      "outputs": [
        {
          "output_type": "execute_result",
          "data": {
            "text/plain": [
              "<tf.Tensor: shape=(30212,), dtype=int64, numpy=array([0, 0, 3, ..., 4, 1, 1])>"
            ]
          },
          "metadata": {},
          "execution_count": 59
        }
      ]
    },
    {
      "cell_type": "code",
      "source": [
        "model_1_results = calculate_results(val_labels_encoded,\n",
        "                                    model_1_preds)"
      ],
      "metadata": {
        "id": "Fk9m7csUFTzw"
      },
      "execution_count": 60,
      "outputs": []
    },
    {
      "cell_type": "code",
      "source": [
        "model_1_results"
      ],
      "metadata": {
        "colab": {
          "base_uri": "https://localhost:8080/"
        },
        "id": "8OWsihDjFgty",
        "outputId": "84843c80-8ed4-47cc-a5b0-31c4721ea3be"
      },
      "execution_count": 61,
      "outputs": [
        {
          "output_type": "execute_result",
          "data": {
            "text/plain": [
              "{'accuracy': 78.78326492784325,\n",
              " 'f1': 0.7850388745748678,\n",
              " 'precision': 0.7848368935334157,\n",
              " 'recall': 0.7878326492784324}"
            ]
          },
          "metadata": {},
          "execution_count": 61
        }
      ]
    },
    {
      "cell_type": "markdown",
      "source": [
        "##Feature Extraction with pretrained token embeddings"
      ],
      "metadata": {
        "id": "gGCLp_CTFiUX"
      }
    },
    {
      "cell_type": "code",
      "source": [
        "#Using pretrained word embeddings from tensorflow hub\n",
        "import tensorflow_hub as hub\n",
        "tf_hub_embedding_layer = hub.KerasLayer(\"https://tfhub.dev/google/universal-sentence-encoder/4\",\n",
        "                                        trainable=False,\n",
        "                                        name=\"universal_sentence_encoder\")\n"
      ],
      "metadata": {
        "id": "e1G-m9DPFzeA"
      },
      "execution_count": 62,
      "outputs": []
    },
    {
      "cell_type": "code",
      "source": [
        "random_train_sentence = random.choice(train_sentences)\n",
        "print(f\"random sentence: {random_train_sentence}\")\n",
        "use_embedded_sentence = tf_hub_embedding_layer([random_train_sentence])\n",
        "print(f\"embedded version: {use_embedded_sentence}\")"
      ],
      "metadata": {
        "colab": {
          "base_uri": "https://localhost:8080/"
        },
        "id": "uG2sSsfHG0Wb",
        "outputId": "8756e17a-57a2-402b-a0ce-5027c776c04b"
      },
      "execution_count": 63,
      "outputs": [
        {
          "output_type": "stream",
          "name": "stdout",
          "text": [
            "random sentence: ( @ ) the time for defervescence , duration of pharyngeal hyperemia , duration of swollen tonsils was shorter in the treatment group than in the control group ( p < @ ) .\n",
            "embedded version: [[ 0.00578452 -0.02679653  0.05064637 -0.01795415 -0.04246696 -0.01211567\n",
            "   0.04603653 -0.03731017 -0.0244111   0.03915897  0.08520998  0.02587963\n",
            "   0.06613192  0.04587513  0.02541615  0.03289033 -0.07008911  0.05852516\n",
            "  -0.0323917   0.01875676 -0.08037243  0.01280324 -0.07736009 -0.05289072\n",
            "  -0.0726698   0.04517899 -0.03244819 -0.01449201 -0.07866491 -0.04166771\n",
            "   0.02600883  0.08525129 -0.06367192 -0.04174399  0.03989821 -0.00836106\n",
            "   0.00042533 -0.06303851  0.01948121 -0.04804936 -0.00300878  0.01410486\n",
            "   0.06613456  0.00719934 -0.02240162  0.04255042  0.01755731  0.05750729\n",
            "   0.06771964 -0.06804221  0.02135643 -0.03546014 -0.05265488 -0.03939949\n",
            "  -0.01402869  0.03343707 -0.07095927  0.07959367  0.06905074  0.05079128\n",
            "  -0.03983808  0.00114292  0.06677779 -0.02285383 -0.02954011 -0.03059115\n",
            "   0.01925062  0.0357229   0.02953809 -0.06354398  0.01520661 -0.084874\n",
            "   0.07331162 -0.03853611  0.02556476 -0.01864317 -0.03664388  0.01724814\n",
            "   0.05969015  0.03080564  0.05704169  0.0742431   0.00737991 -0.05521369\n",
            "  -0.04194951 -0.00061559  0.01540302  0.05236224 -0.03624097 -0.02693583\n",
            "  -0.02208301 -0.01514148  0.01212751 -0.03146512  0.04317999  0.02242464\n",
            "  -0.0626341  -0.07482391 -0.0144837  -0.03134747 -0.07798352  0.05342282\n",
            "  -0.03428974 -0.03829359  0.04098549 -0.05431514  0.06153351 -0.02587907\n",
            "   0.07077418 -0.01901192  0.03331685 -0.00509091 -0.01235399  0.01408716\n",
            "  -0.0046145  -0.01623227 -0.038612   -0.0181471  -0.00272864  0.02772931\n",
            "  -0.02882786  0.00648184  0.06151312 -0.06693153 -0.03920858 -0.01808915\n",
            "  -0.05841371 -0.01344561 -0.04770308 -0.01219552  0.02546584  0.08609369\n",
            "   0.00238906 -0.02538621  0.02610842 -0.05373032  0.06324519  0.04102318\n",
            "  -0.0338237   0.02622656 -0.04547537  0.00716593  0.01037226 -0.05866607\n",
            "  -0.04172095  0.06665297  0.05994614 -0.05739066  0.06950264 -0.06835473\n",
            "   0.02183737  0.0028429  -0.02555727 -0.06724359  0.06854262 -0.01376103\n",
            "  -0.02898617  0.0699586  -0.02749869 -0.03131519  0.02102647  0.06521039\n",
            "   0.00549062 -0.00215634 -0.04143137  0.01193924 -0.04260877  0.03620844\n",
            "   0.0109344   0.05722821 -0.0594385  -0.07993705 -0.01685245  0.05398412\n",
            "  -0.04988368  0.01939293 -0.00458104 -0.04584909  0.066572    0.06681193\n",
            "  -0.06727628  0.0476161   0.07800314 -0.00509748  0.01895383 -0.0175127\n",
            "   0.02470267  0.02394114  0.05111663 -0.03161747 -0.02680109 -0.01263645\n",
            "   0.03439069  0.01530455 -0.03842474 -0.05816022 -0.05426497  0.00266931\n",
            "  -0.01397272 -0.03111955  0.0061178  -0.05573909  0.0024136   0.06238222\n",
            "   0.00131571  0.07149874 -0.0607723   0.03418833 -0.03015821  0.02606836\n",
            "   0.01201304  0.01682551 -0.01784913 -0.00277449 -0.05657988 -0.033958\n",
            "   0.04458266 -0.03349106  0.00576814  0.02668366  0.0336019  -0.04496696\n",
            "   0.06598335 -0.08033779  0.07459249 -0.063766   -0.07319598 -0.05381079\n",
            "  -0.03355739  0.07846285 -0.04784574 -0.00029542 -0.07238478 -0.07750333\n",
            "   0.01178601  0.03598395  0.05058695 -0.01338182 -0.06700608  0.03511629\n",
            "   0.01369795  0.0343021  -0.03513251  0.0133554  -0.00032792 -0.05327734\n",
            "  -0.04049684  0.03490733  0.04497154 -0.08397695  0.02815523 -0.00190237\n",
            "  -0.00560758  0.02661678  0.00429741  0.03176074 -0.03697838  0.06901373\n",
            "  -0.03793314 -0.03372438  0.03824006 -0.0655365  -0.07653243  0.06112701\n",
            "  -0.00478955  0.06394535 -0.01018759 -0.02966482  0.03453242  0.07555427\n",
            "  -0.07381541  0.00411156  0.02315963 -0.07672488  0.03473321 -0.02209127\n",
            "  -0.03435559  0.04624834  0.01172597 -0.07771375  0.03192715 -0.02599896\n",
            "  -0.03475123  0.00149067  0.00252822  0.02766821  0.04333174  0.05676878\n",
            "  -0.00389739  0.00452326 -0.07653911 -0.05011205  0.04061138 -0.0690756\n",
            "  -0.04684702 -0.0257316  -0.03857137  0.01889802  0.03006963  0.01059311\n",
            "   0.06128885  0.04504023 -0.02068803  0.00618945 -0.03290623 -0.01649314\n",
            "   0.07918476 -0.05408537  0.0631713   0.0103682  -0.01448053 -0.07042185\n",
            "   0.06729894 -0.05013315  0.03455558  0.03060501 -0.01606959 -0.06899448\n",
            "   0.05469844  0.03941061 -0.01239361  0.02923676  0.02178251 -0.01441607\n",
            "  -0.02147079 -0.01080867 -0.04444283 -0.04325254 -0.0395598  -0.00211494\n",
            "   0.01698755  0.01308832 -0.04673124  0.05129157 -0.01650736  0.0024335\n",
            "   0.02595871 -0.05086147 -0.05925266 -0.02184928 -0.04042623  0.04643073\n",
            "   0.07129003  0.06686819 -0.00795883 -0.05403403  0.01884151 -0.03590699\n",
            "   0.06850579 -0.04814469  0.05143672 -0.01230268 -0.03376809 -0.06462051\n",
            "   0.08161441  0.02901906 -0.05349993  0.06617746  0.06276333  0.03842217\n",
            "  -0.02011529  0.03344721 -0.05118037 -0.04848565 -0.00764194  0.05241457\n",
            "  -0.00749652  0.06131374  0.05397651 -0.0447613  -0.01392357 -0.06377938\n",
            "  -0.02653423  0.03882091  0.08265773 -0.01558024  0.03879176 -0.03152054\n",
            "   0.0029208  -0.0174346  -0.0270572  -0.04212971 -0.04483486  0.03933972\n",
            "   0.05849652  0.03097104  0.00481512 -0.01077856 -0.02847125  0.07668461\n",
            "  -0.00211198  0.06989676  0.01841354 -0.06828383 -0.01906379  0.04379653\n",
            "   0.0241953  -0.05881337  0.08132257 -0.05842209  0.00379367 -0.05397494\n",
            "  -0.02346029  0.00141852  0.01366558 -0.03386555  0.03494783  0.07165588\n",
            "   0.05811382 -0.01787488  0.00304515  0.0060282   0.05444315 -0.01778505\n",
            "  -0.01792088  0.04106849  0.05640922 -0.01609139 -0.07923355  0.03243536\n",
            "  -0.00569522  0.02529058 -0.02235098 -0.05681584 -0.0745368  -0.05744505\n",
            "   0.06054536 -0.05755112  0.04969604 -0.04431202 -0.04025142  0.01578937\n",
            "  -0.00285954  0.08548024  0.02608087 -0.06232876  0.05153018  0.00575968\n",
            "  -0.06915907 -0.03356925 -0.01264021  0.03951146  0.04544668 -0.01212145\n",
            "  -0.02694361  0.00427722 -0.06136334  0.00884586 -0.02800239 -0.06246375\n",
            "  -0.01589455 -0.05444059  0.04092243  0.06096967 -0.02357839 -0.05103713\n",
            "  -0.00716245  0.06341408 -0.03779012  0.05938988 -0.02893097  0.00271457\n",
            "   0.05060891  0.02521052  0.06606992 -0.0369467   0.00336625 -0.05068998\n",
            "  -0.03177884 -0.08217601 -0.02302202 -0.00014476  0.0611044  -0.06079025\n",
            "  -0.02118665 -0.02567997  0.06771054 -0.02064859  0.02555026  0.06086316\n",
            "  -0.07290229  0.05154655 -0.03959459  0.00602559 -0.00871306 -0.00620938\n",
            "  -0.0574613  -0.08169804 -0.05249931 -0.0651354   0.05496783  0.04530345\n",
            "  -0.00469355 -0.05027132  0.02622233 -0.03690971  0.07280155 -0.00346095\n",
            "  -0.00530092  0.05974079  0.02329116 -0.02630809 -0.05399462 -0.06156119\n",
            "  -0.03016375 -0.08625124  0.03050041  0.01416367  0.00636117 -0.03397295\n",
            "   0.01183106 -0.01357279]]\n"
          ]
        }
      ]
    },
    {
      "cell_type": "markdown",
      "source": [
        "#Building and Fitting a featuer extraction model\n"
      ],
      "metadata": {
        "id": "yYJ-_KW7HBrH"
      }
    },
    {
      "cell_type": "code",
      "source": [
        "#model 2\n",
        "inputs = layers.Input(shape=[], dtype=tf.string)\n",
        "pretrained_embedding = tf_hub_embedding_layer(inputs)\n",
        "x = layers.Dense(128, activation=\"relu\")(pretrained_embedding)\n",
        "outputs = layers.Dense(5, activation=\"softmax\")(x)\n",
        "model_2 = tf.keras.Model(inputs, outputs, name=\"model2USEfeatureExtractor\")\n",
        "\n",
        "model_2.compile(loss=\"categorical_crossentropy\",\n",
        "                optimizer=tf.keras.optimizers.Adam(),\n",
        "                metrics=[\"accuracy\"])\n",
        "\n",
        "model_2_history = model_2.fit(train_dataset,\n",
        "                              epochs=3,\n",
        "                              steps_per_epoch=int(0.1 * len(train_dataset)),\n",
        "                              validation_data=val_dataset,\n",
        "                              validation_steps=(0.1 * len(val_dataset)))"
      ],
      "metadata": {
        "colab": {
          "base_uri": "https://localhost:8080/"
        },
        "id": "SM9u2tCCB85u",
        "outputId": "28e1efab-be3a-432c-93de-d8abc6f85ade"
      },
      "execution_count": 64,
      "outputs": [
        {
          "output_type": "stream",
          "name": "stdout",
          "text": [
            "Epoch 1/3\n",
            "562/562 [==============================] - 9s 13ms/step - loss: 0.9157 - accuracy: 0.6500 - val_loss: 0.8038 - val_accuracy: 0.6875\n",
            "Epoch 2/3\n",
            "562/562 [==============================] - 8s 15ms/step - loss: 0.7702 - accuracy: 0.7010 - val_loss: 0.7613 - val_accuracy: 0.6997\n",
            "Epoch 3/3\n",
            "562/562 [==============================] - 8s 14ms/step - loss: 0.7545 - accuracy: 0.7110 - val_loss: 0.7467 - val_accuracy: 0.7102\n"
          ]
        }
      ]
    },
    {
      "cell_type": "code",
      "source": [
        "model_2.summary()"
      ],
      "metadata": {
        "colab": {
          "base_uri": "https://localhost:8080/"
        },
        "id": "oUZ9HX-uC0m7",
        "outputId": "ea85be2d-d7e8-4e54-eaea-cef37d56b87e"
      },
      "execution_count": 65,
      "outputs": [
        {
          "output_type": "stream",
          "name": "stdout",
          "text": [
            "Model: \"model2USEfeatureExtractor\"\n",
            "_________________________________________________________________\n",
            " Layer (type)                Output Shape              Param #   \n",
            "=================================================================\n",
            " input_2 (InputLayer)        [(None,)]                 0         \n",
            "                                                                 \n",
            " universal_sentence_encoder   (None, 512)              256797824 \n",
            " (KerasLayer)                                                    \n",
            "                                                                 \n",
            " dense_1 (Dense)             (None, 128)               65664     \n",
            "                                                                 \n",
            " dense_2 (Dense)             (None, 5)                 645       \n",
            "                                                                 \n",
            "=================================================================\n",
            "Total params: 256,864,133\n",
            "Trainable params: 66,309\n",
            "Non-trainable params: 256,797,824\n",
            "_________________________________________________________________\n"
          ]
        }
      ]
    },
    {
      "cell_type": "code",
      "source": [
        "model_2.evaluate(val_dataset)"
      ],
      "metadata": {
        "colab": {
          "base_uri": "https://localhost:8080/"
        },
        "id": "989nCY4oDA2J",
        "outputId": "6cdc537f-723e-4a15-a30e-97235b0f26da"
      },
      "execution_count": 66,
      "outputs": [
        {
          "output_type": "stream",
          "name": "stdout",
          "text": [
            "945/945 [==============================] - 10s 10ms/step - loss: 0.7449 - accuracy: 0.7129\n"
          ]
        },
        {
          "output_type": "execute_result",
          "data": {
            "text/plain": [
              "[0.7448555827140808, 0.7128955125808716]"
            ]
          },
          "metadata": {},
          "execution_count": 66
        }
      ]
    },
    {
      "cell_type": "code",
      "source": [
        "model_2_pred_probs = model_2.predict(val_dataset)\n",
        "model_2_preds = tf.argmax(model_2_pred_probs, axis=1)\n",
        "model_2_preds"
      ],
      "metadata": {
        "colab": {
          "base_uri": "https://localhost:8080/"
        },
        "id": "5J0zEXnhDFj7",
        "outputId": "b060bcf3-ac41-4331-a1fe-7e2efc48db17"
      },
      "execution_count": 67,
      "outputs": [
        {
          "output_type": "execute_result",
          "data": {
            "text/plain": [
              "<tf.Tensor: shape=(30212,), dtype=int64, numpy=array([0, 1, 3, ..., 4, 4, 2])>"
            ]
          },
          "metadata": {},
          "execution_count": 67
        }
      ]
    },
    {
      "cell_type": "code",
      "source": [
        "#calcualte reults\n",
        "model_2_results = calculate_results(y_true=val_labels_encoded,\n",
        "                                    y_pred=model_2_preds)"
      ],
      "metadata": {
        "id": "UsOnr6hQDQmr"
      },
      "execution_count": 68,
      "outputs": []
    },
    {
      "cell_type": "code",
      "source": [
        "model_2_results"
      ],
      "metadata": {
        "colab": {
          "base_uri": "https://localhost:8080/"
        },
        "id": "8Byp_QgKDXcA",
        "outputId": "feff2ded-5185-444f-dbf4-493d86c7fe7a"
      },
      "execution_count": 69,
      "outputs": [
        {
          "output_type": "execute_result",
          "data": {
            "text/plain": [
              "{'accuracy': 71.2895538196743,\n",
              " 'f1': 0.7100503400864348,\n",
              " 'precision': 0.7134394467214743,\n",
              " 'recall': 0.712895538196743}"
            ]
          },
          "metadata": {},
          "execution_count": 69
        }
      ]
    },
    {
      "cell_type": "code",
      "source": [
        "baseline_results"
      ],
      "metadata": {
        "colab": {
          "base_uri": "https://localhost:8080/"
        },
        "id": "NguPibqrDfam",
        "outputId": "75df3fe8-380e-49a3-f23e-6dc65ac431e1"
      },
      "execution_count": 70,
      "outputs": [
        {
          "output_type": "execute_result",
          "data": {
            "text/plain": [
              "{'accuracy': 72.1832384482987,\n",
              " 'f1': 0.6989250353450294,\n",
              " 'precision': 0.7186466952323352,\n",
              " 'recall': 0.7218323844829869}"
            ]
          },
          "metadata": {},
          "execution_count": 70
        }
      ]
    },
    {
      "cell_type": "markdown",
      "source": [
        "#Model_3 = Conv1D with Character Embeddings"
      ],
      "metadata": {
        "id": "Fl-WH7xVDlVd"
      }
    },
    {
      "cell_type": "markdown",
      "source": [
        "###creating character level tokenization"
      ],
      "metadata": {
        "id": "0e3YpP5yEQb-"
      }
    },
    {
      "cell_type": "code",
      "source": [
        "train_sentences[:5]"
      ],
      "metadata": {
        "colab": {
          "base_uri": "https://localhost:8080/"
        },
        "id": "X6s3s3s4ETA9",
        "outputId": "51ac9387-5ff1-4524-ea14-38de02140cfc"
      },
      "execution_count": 71,
      "outputs": [
        {
          "output_type": "execute_result",
          "data": {
            "text/plain": [
              "['to investigate the efficacy of @ weeks of daily low-dose oral prednisolone in improving pain , mobility , and systemic low-grade inflammation in the short term and whether the effect would be sustained at @ weeks in older adults with moderate to severe knee osteoarthritis ( oa ) .',\n",
              " 'a total of @ patients with primary knee oa were randomized @:@ ; @ received @ mg/day of prednisolone and @ received placebo for @ weeks .',\n",
              " 'outcome measures included pain reduction and improvement in function scores and systemic inflammation markers .',\n",
              " 'pain was assessed using the visual analog pain scale ( @-@ mm ) .',\n",
              " 'secondary outcome measures included the western ontario and mcmaster universities osteoarthritis index scores , patient global assessment ( pga ) of the severity of knee oa , and @-min walk distance ( @mwd ) .']"
            ]
          },
          "metadata": {},
          "execution_count": 71
        }
      ]
    },
    {
      "cell_type": "code",
      "source": [
        "def split_chars(text):\n",
        "  return \" \".join(list(text))"
      ],
      "metadata": {
        "id": "fYp6VgZiEUge"
      },
      "execution_count": 72,
      "outputs": []
    },
    {
      "cell_type": "code",
      "source": [
        "split_chars(random_train_sentence)"
      ],
      "metadata": {
        "colab": {
          "base_uri": "https://localhost:8080/",
          "height": 71
        },
        "id": "_eGgE8QgEZSb",
        "outputId": "0ac9a7c4-9c77-41f2-ede6-803d4e66c58b"
      },
      "execution_count": 73,
      "outputs": [
        {
          "output_type": "execute_result",
          "data": {
            "text/plain": [
              "'(   @   )   t h e   t i m e   f o r   d e f e r v e s c e n c e   ,   d u r a t i o n   o f   p h a r y n g e a l   h y p e r e m i a   ,   d u r a t i o n   o f   s w o l l e n   t o n s i l s   w a s   s h o r t e r   i n   t h e   t r e a t m e n t   g r o u p   t h a n   i n   t h e   c o n t r o l   g r o u p   (   p   <   @   )   .'"
            ],
            "application/vnd.google.colaboratory.intrinsic+json": {
              "type": "string"
            }
          },
          "metadata": {},
          "execution_count": 73
        }
      ]
    },
    {
      "cell_type": "code",
      "source": [
        "#split sequence levle data into char level datset\n",
        "train_chars = [split_chars(sentence) for sentence in train_sentences]\n",
        "val_chars = [split_chars(sentence) for sentence in val_sentences]\n",
        "test_chars = [split_chars(sentence) for sentence in test_sentences]\n",
        "\n",
        "chars_lens = [len(sentence) for sentence in train_sentences]\n",
        "mean_char_len = np.mean(chars_lens)\n",
        "mean_char_len"
      ],
      "metadata": {
        "colab": {
          "base_uri": "https://localhost:8080/"
        },
        "id": "xbi2wn_8Ecbl",
        "outputId": "5fce10eb-5902-4531-d0c6-76e6550dd53c"
      },
      "execution_count": 74,
      "outputs": [
        {
          "output_type": "execute_result",
          "data": {
            "text/plain": [
              "149.3662574983337"
            ]
          },
          "metadata": {},
          "execution_count": 74
        }
      ]
    },
    {
      "cell_type": "code",
      "source": [
        "import matplotlib.pyplot as plt\n",
        "plt.hist(chars_lens, bins=10)"
      ],
      "metadata": {
        "colab": {
          "base_uri": "https://localhost:8080/",
          "height": 372
        },
        "id": "nBmPPZXbE89y",
        "outputId": "9a3b0f3f-2c24-4f76-f6b0-3c4fdf8834e9"
      },
      "execution_count": 75,
      "outputs": [
        {
          "output_type": "execute_result",
          "data": {
            "text/plain": [
              "(array([9.2691e+04, 7.6343e+04, 9.6890e+03, 1.0890e+03, 1.6700e+02,\n",
              "        4.2000e+01, 1.3000e+01, 3.0000e+00, 2.0000e+00, 1.0000e+00]),\n",
              " array([1.0000e+00, 1.3950e+02, 2.7800e+02, 4.1650e+02, 5.5500e+02,\n",
              "        6.9350e+02, 8.3200e+02, 9.7050e+02, 1.1090e+03, 1.2475e+03,\n",
              "        1.3860e+03]),\n",
              " <a list of 10 Patch objects>)"
            ]
          },
          "metadata": {},
          "execution_count": 75
        },
        {
          "output_type": "display_data",
          "data": {
            "text/plain": [
              "<Figure size 432x288 with 1 Axes>"
            ],
            "image/png": "[encoded data removed]"
          },
          "metadata": {
            "needs_background": "light"
          }
        }
      ]
    },
    {
      "cell_type": "code",
      "source": [
        "#Find what character length covers 95% of sequences\n",
        "output_seq_char_len = int(np.percentile(chars_lens, 95))\n",
        "output_seq_char_len"
      ],
      "metadata": {
        "colab": {
          "base_uri": "https://localhost:8080/"
        },
        "id": "c7uG2Pn7FBDt",
        "outputId": "f98788c9-7e47-48ef-a4e1-a7b869efc3a7"
      },
      "execution_count": 76,
      "outputs": [
        {
          "output_type": "execute_result",
          "data": {
            "text/plain": [
              "290"
            ]
          },
          "metadata": {},
          "execution_count": 76
        }
      ]
    },
    {
      "cell_type": "code",
      "source": [
        "#get all keyboard characters\n",
        "import string\n",
        "alphabet = string.ascii_lowercase + string.digits + string.punctuation\n",
        "\n",
        "NUM_CHAR_TOKENS = len(alphabet) + 2 #add 2 for space and UNK\n",
        "char_vectorizer = TextVectorization(max_tokens=NUM_CHAR_TOKENS,\n",
        "                                    output_sequence_length=output_seq_char_len,\n",
        "                                    #standardize=None,\n",
        "                                    name=\"char_vectorizer\")"
      ],
      "metadata": {
        "id": "iZ5yhZnoFKmk"
      },
      "execution_count": 77,
      "outputs": []
    },
    {
      "cell_type": "code",
      "source": [
        "#adapt character vectorizer to tarining characters\n",
        "char_vectorizer.adapt(train_chars)"
      ],
      "metadata": {
        "id": "Ia2a3ghvF2OR"
      },
      "execution_count": 78,
      "outputs": []
    },
    {
      "cell_type": "code",
      "source": [
        "char_vocab = char_vectorizer.get_vocabulary()\n",
        "print(f\"Nmber of different character in charactervocab: {len(char_vocab)}\")\n",
        "print(f\"most common chars : {char_vocab[:5]}\")\n",
        "print(f\"Least common; {char_vocab[-5:]}\")"
      ],
      "metadata": {
        "colab": {
          "base_uri": "https://localhost:8080/"
        },
        "id": "AIFAU_ioF8js",
        "outputId": "073c3928-ee9a-4b98-8ba5-7ecb51a0cbaa"
      },
      "execution_count": 79,
      "outputs": [
        {
          "output_type": "stream",
          "name": "stdout",
          "text": [
            "Nmber of different character in charactervocab: 28\n",
            "most common chars : ['', '[UNK]', 'e', 't', 'i']\n",
            "Least common; ['k', 'x', 'z', 'q', 'j']\n"
          ]
        }
      ]
    },
    {
      "cell_type": "code",
      "source": [
        "random_train_chars = random.choice(train_chars)\n",
        "print(f\"Charified text: \\n {random_train_chars}\")\n",
        "print(f\"Length of ranodm_train_chares: {len(random_train_chars.split())}\")\n",
        "vectorized_chars = char_vectorizer([random_train_chars])\n",
        "print(f\"Vectorized Chars : {vectorized_chars}\")\n",
        "print(f\"Length of vectorized chars: {len(vectorized_chars[0])}\")\n"
      ],
      "metadata": {
        "colab": {
          "base_uri": "https://localhost:8080/"
        },
        "id": "z2xth9axGMuu",
        "outputId": "174e06f1-ae23-4720-ee01-9d91ebc35bc6"
      },
      "execution_count": 80,
      "outputs": [
        {
          "output_type": "stream",
          "name": "stdout",
          "text": [
            "Charified text: \n",
            " c i l i a r y   n e u r o t r o p h i c   f a c t o r   d i d   n o t   m e a s u r a b l y   e n h a n c e   c o n e   f u n c t i o n   ,   w h i c h   r e v e a l s   a   s p e c i e s   d i f f e r e n c e   b e t w e e n   h u m a n   a n d   c a n i n e   c n g b @   c o n e s   i n   r e s p o n s e   t o   c n t f   .\n",
            "Length of ranodm_train_chares: 139\n",
            "Vectorized Chars : [[11  4 12  4  5  8 19  6  2 16  8  7  3  8  7 14 13  4 11 17  5 11  3  7\n",
            "   8 10  4 10  6  7  3 15  2  5  9 16  8  5 22 12 19  2  6 13  5  6 11  2\n",
            "  11  7  6  2 17 16  6 11  3  4  7  6 20 13  4 11 13  8  2 21  2  5 12  9\n",
            "   5  9 14  2 11  4  2  9 10  4 17 17  2  8  2  6 11  2 22  2  3 20  2  2\n",
            "   6 13 16 15  5  6  5  6 10 11  5  6  4  6  2 11  6 18 22 11  7  6  2  9\n",
            "   4  6  8  2  9 14  7  6  9  2  3  7 11  6  3 17  0  0  0  0  0  0  0  0\n",
            "   0  0  0  0  0  0  0  0  0  0  0  0  0  0  0  0  0  0  0  0  0  0  0  0\n",
            "   0  0  0  0  0  0  0  0  0  0  0  0  0  0  0  0  0  0  0  0  0  0  0  0\n",
            "   0  0  0  0  0  0  0  0  0  0  0  0  0  0  0  0  0  0  0  0  0  0  0  0\n",
            "   0  0  0  0  0  0  0  0  0  0  0  0  0  0  0  0  0  0  0  0  0  0  0  0\n",
            "   0  0  0  0  0  0  0  0  0  0  0  0  0  0  0  0  0  0  0  0  0  0  0  0\n",
            "   0  0  0  0  0  0  0  0  0  0  0  0  0  0  0  0  0  0  0  0  0  0  0  0\n",
            "   0  0]]\n",
            "Length of vectorized chars: 290\n"
          ]
        }
      ]
    },
    {
      "cell_type": "code",
      "source": [
        "## creating a character level embedding\n",
        "char_embed = layers.Embedding(input_dim=len(char_vocab),\n",
        "                              output_dim=25,\n",
        "                              mask_zero=True,\n",
        "                              name=\"char_embed\")"
      ],
      "metadata": {
        "id": "Lj7gGZibGyUi"
      },
      "execution_count": 81,
      "outputs": []
    },
    {
      "cell_type": "code",
      "source": [
        "print(f\"Charified text: \\n {random_train_chars}\")\n",
        "char_embed_example = char_embed(char_vectorizer([random_train_chars]))\n",
        "print(f\"Embedded chars. : {char_embed_example}\")\n",
        "print(f\"Embeddes shape: {char_embed_example.shape}\")"
      ],
      "metadata": {
        "colab": {
          "base_uri": "https://localhost:8080/"
        },
        "id": "SgcQtw7fHh8s",
        "outputId": "7db0f27c-7a14-49e9-ab18-afd4ddd439d0"
      },
      "execution_count": 82,
      "outputs": [
        {
          "output_type": "stream",
          "name": "stdout",
          "text": [
            "Charified text: \n",
            " c i l i a r y   n e u r o t r o p h i c   f a c t o r   d i d   n o t   m e a s u r a b l y   e n h a n c e   c o n e   f u n c t i o n   ,   w h i c h   r e v e a l s   a   s p e c i e s   d i f f e r e n c e   b e t w e e n   h u m a n   a n d   c a n i n e   c n g b @   c o n e s   i n   r e s p o n s e   t o   c n t f   .\n",
            "Embedded chars. : [[[ 0.0278254  -0.00953039  0.04827623 ... -0.01878371 -0.01803667\n",
            "    0.01044435]\n",
            "  [-0.01685011  0.03456846 -0.00797563 ... -0.03289326  0.00804989\n",
            "    0.01334095]\n",
            "  [ 0.01620002 -0.02153965 -0.0203275  ...  0.04932659 -0.0445953\n",
            "   -0.03045407]\n",
            "  ...\n",
            "  [-0.00433608  0.00469287  0.00209578 ... -0.01753328 -0.00480381\n",
            "   -0.04580448]\n",
            "  [-0.00433608  0.00469287  0.00209578 ... -0.01753328 -0.00480381\n",
            "   -0.04580448]\n",
            "  [-0.00433608  0.00469287  0.00209578 ... -0.01753328 -0.00480381\n",
            "   -0.04580448]]]\n",
            "Embeddes shape: (1, 290, 25)\n"
          ]
        }
      ]
    },
    {
      "cell_type": "code",
      "source": [
        "#model_3\n",
        "inputs = layers.Input(shape=(1,), dtype=tf.string)\n",
        "char_vectors = char_vectorizer(inputs)\n",
        "char_embeddings = char_embed(char_vectors)\n",
        "x = layers.Conv1D(64, kernel_size=5, padding=\"same\", activation=\"relu\")(char_embeddings)\n",
        "x = layers.GlobalMaxPool1D()(x)\n",
        "outputs = layers.Dense(5, activation=\"softmax\")(x)\n",
        "model_3 = tf.keras.Model(inputs=inputs,\n",
        "                         outputs=outputs,\n",
        "                         name=\"model_3_conv1d_char_embedding\")"
      ],
      "metadata": {
        "id": "fgRSNVcAHzV4"
      },
      "execution_count": 83,
      "outputs": []
    },
    {
      "cell_type": "code",
      "source": [
        "model_3.summary()"
      ],
      "metadata": {
        "colab": {
          "base_uri": "https://localhost:8080/"
        },
        "id": "I5SZqUihIu4M",
        "outputId": "c2a2b24e-2cde-4027-a7ec-dea23010e775"
      },
      "execution_count": 84,
      "outputs": [
        {
          "output_type": "stream",
          "name": "stdout",
          "text": [
            "Model: \"model_3_conv1d_char_embedding\"\n",
            "_________________________________________________________________\n",
            " Layer (type)                Output Shape              Param #   \n",
            "=================================================================\n",
            " input_3 (InputLayer)        [(None, 1)]               0         \n",
            "                                                                 \n",
            " char_vectorizer (TextVector  (None, 290)              0         \n",
            " ization)                                                        \n",
            "                                                                 \n",
            " char_embed (Embedding)      (None, 290, 25)           700       \n",
            "                                                                 \n",
            " conv1d_1 (Conv1D)           (None, 290, 64)           8064      \n",
            "                                                                 \n",
            " global_max_pooling1d (Globa  (None, 64)               0         \n",
            " lMaxPooling1D)                                                  \n",
            "                                                                 \n",
            " dense_3 (Dense)             (None, 5)                 325       \n",
            "                                                                 \n",
            "=================================================================\n",
            "Total params: 9,089\n",
            "Trainable params: 9,089\n",
            "Non-trainable params: 0\n",
            "_________________________________________________________________\n"
          ]
        }
      ]
    },
    {
      "cell_type": "code",
      "source": [
        "#Create char level datsets\n",
        "train_char_dataset = tf.data.Dataset.from_tensor_slices((train_chars, train_labels_one_hot)).batch(32).prefetch(tf.data.AUTOTUNE)\n",
        "val_char_dataset = tf.data.Dataset.from_tensor_slices((val_chars, val_labels_one_hot)).batch(32).prefetch(tf.data.AUTOTUNE)\n",
        "test_char_dataset = tf.data.Dataset.from_tensor_slices((test_chars, test_labels_one_hot)).batch(32).prefetch(tf.data.AUTOTUNE)"
      ],
      "metadata": {
        "id": "3_WKW-iZIv3D"
      },
      "execution_count": 85,
      "outputs": []
    },
    {
      "cell_type": "code",
      "source": [
        "train_char_dataset"
      ],
      "metadata": {
        "colab": {
          "base_uri": "https://localhost:8080/"
        },
        "id": "HpMRilpHJJ2v",
        "outputId": "2b9d6b76-3d0c-4cb3-9f0f-65b6b3af02fe"
      },
      "execution_count": 86,
      "outputs": [
        {
          "output_type": "execute_result",
          "data": {
            "text/plain": [
              "<PrefetchDataset element_spec=(TensorSpec(shape=(None,), dtype=tf.string, name=None), TensorSpec(shape=(None, 5), dtype=tf.float64, name=None))>"
            ]
          },
          "metadata": {},
          "execution_count": 86
        }
      ]
    },
    {
      "cell_type": "code",
      "source": [
        "#Fit the model on chars only\n",
        "model_3.compile(loss=\"categorical_crossentropy\",\n",
        "                optimizer=tf.keras.optimizers.Adam(),\n",
        "                metrics=[\"accuracy\"])\n",
        "\n",
        "model_3_history = model_3.fit(train_char_dataset,\n",
        "                              steps_per_epoch=int(0.1*len(train_char_dataset)),\n",
        "                              epochs=3,\n",
        "                              validation_data=val_char_dataset,\n",
        "                              validation_steps=int(0.1*len(val_char_dataset)))"
      ],
      "metadata": {
        "colab": {
          "base_uri": "https://localhost:8080/"
        },
        "id": "zw-Mv8bUJP5q",
        "outputId": "9a167117-da02-4514-d2fe-aef40ee149fc"
      },
      "execution_count": 87,
      "outputs": [
        {
          "output_type": "stream",
          "name": "stdout",
          "text": [
            "Epoch 1/3\n",
            "562/562 [==============================] - 4s 6ms/step - loss: 1.2923 - accuracy: 0.4727 - val_loss: 1.0832 - val_accuracy: 0.5662\n",
            "Epoch 2/3\n",
            "562/562 [==============================] - 3s 5ms/step - loss: 1.0362 - accuracy: 0.5816 - val_loss: 0.9799 - val_accuracy: 0.6097\n",
            "Epoch 3/3\n",
            "562/562 [==============================] - 3s 5ms/step - loss: 0.9502 - accuracy: 0.6228 - val_loss: 0.8963 - val_accuracy: 0.6499\n"
          ]
        }
      ]
    },
    {
      "cell_type": "code",
      "source": [
        "model_3_pred_probs = model_3.predict(val_char_dataset)\n",
        "model_3_preds = tf.argmax(model_3_pred_probs, axis=1)\n",
        "model_3_preds"
      ],
      "metadata": {
        "colab": {
          "base_uri": "https://localhost:8080/"
        },
        "id": "CAKgR2ASJs3W",
        "outputId": "c8701959-dfec-4728-c64c-18b626f9cc51"
      },
      "execution_count": 88,
      "outputs": [
        {
          "output_type": "execute_result",
          "data": {
            "text/plain": [
              "<tf.Tensor: shape=(30212,), dtype=int64, numpy=array([1, 3, 3, ..., 4, 4, 1])>"
            ]
          },
          "metadata": {},
          "execution_count": 88
        }
      ]
    },
    {
      "cell_type": "code",
      "source": [
        "model_3_results = calculate_results(val_labels_encoded,\n",
        "                                    model_3_preds)\n",
        "model_3_results"
      ],
      "metadata": {
        "colab": {
          "base_uri": "https://localhost:8080/"
        },
        "id": "HkUqmfiJKKaf",
        "outputId": "d479fbb0-3863-4ae7-d40b-65b298d78cc5"
      },
      "execution_count": 89,
      "outputs": [
        {
          "output_type": "execute_result",
          "data": {
            "text/plain": [
              "{'accuracy': 64.33867337481796,\n",
              " 'f1': 0.6332028530875495,\n",
              " 'precision': 0.639232560289794,\n",
              " 'recall': 0.6433867337481796}"
            ]
          },
          "metadata": {},
          "execution_count": 89
        }
      ]
    },
    {
      "cell_type": "code",
      "source": [
        "## Model 4: combining pretrianed token embeddings + characters embeddings\n",
        "token_inputs = layers.Input(shape=[], dtype=tf.string, name=\"token_input\")\n",
        "token_embeddings = tf_hub_embedding_layer(token_inputs)\n",
        "token_outputs = layers.Dense(128, activation=\"relu\")(token_embeddings)\n",
        "token_model = tf.keras.Model(inputs=token_inputs,\n",
        "                             outputs=token_outputs)\n",
        "\n",
        "char_inputs = layers.Input(shape=(1,), dtype=tf.string, name=\"char_input\")\n",
        "char_vectors = char_vectorizer(char_inputs)\n",
        "char_embeddings = char_embed(char_vectors)\n",
        "char_bi_lstm = layers.Bidirectional(layers.LSTM(24))(char_embeddings)\n",
        "char_model = tf.keras.Model(inputs=char_inputs,\n",
        "                            outputs=char_bi_lstm)"
      ],
      "metadata": {
        "id": "sE6XftF6Kotg"
      },
      "execution_count": 90,
      "outputs": []
    },
    {
      "cell_type": "code",
      "source": [
        "#using tf.keras.layers.Concatenate\n",
        "token_char_concat = layers.Concatenate(name=\"tokenc_char_hybrid\")([token_model.output,\n",
        "                                                                   char_model.output])\n",
        "\n",
        "#create output layers\n",
        "combined_dropout = layers.Dropout(0.5)(token_char_concat)\n",
        "combined_dense = layers.Dense(128, activation=\"relu\")(combined_dropout)\n",
        "final_dropout = layers.Dropout(0.5)(combined_dense)\n",
        "output_layer = layers.Dense(5, activation=\"softmax\")(final_dropout)\n",
        "\n",
        "model_4 = tf.keras.Model(inputs=[token_model.input, char_model.input],\n",
        "                         outputs=output_layer,\n",
        "                         name=\"model_4_token_and_char_embeddings\")"
      ],
      "metadata": {
        "id": "SrH7UT0beoNl"
      },
      "execution_count": 91,
      "outputs": []
    },
    {
      "cell_type": "code",
      "source": [
        "model_4.summary()\n",
        "model_4.compile(loss=\"categorical_crossentropy\",\n",
        "                optimizer=tf.keras.optimizers.Adam(),\n",
        "                metrics=[\"accuracy\"])\n",
        "\n"
      ],
      "metadata": {
        "colab": {
          "base_uri": "https://localhost:8080/"
        },
        "id": "JVZIZkdGf-SH",
        "outputId": "e83880e4-304a-424e-b5e5-adb8718d3418"
      },
      "execution_count": 92,
      "outputs": [
        {
          "output_type": "stream",
          "name": "stdout",
          "text": [
            "Model: \"model_4_token_and_char_embeddings\"\n",
            "__________________________________________________________________________________________________\n",
            " Layer (type)                   Output Shape         Param #     Connected to                     \n",
            "==================================================================================================\n",
            " char_input (InputLayer)        [(None, 1)]          0           []                               \n",
            "                                                                                                  \n",
            " token_input (InputLayer)       [(None,)]            0           []                               \n",
            "                                                                                                  \n",
            " char_vectorizer (TextVectoriza  (None, 290)         0           ['char_input[0][0]']             \n",
            " tion)                                                                                            \n",
            "                                                                                                  \n",
            " universal_sentence_encoder (Ke  (None, 512)         256797824   ['token_input[0][0]']            \n",
            " rasLayer)                                                                                        \n",
            "                                                                                                  \n",
            " char_embed (Embedding)         (None, 290, 25)      700         ['char_vectorizer[1][0]']        \n",
            "                                                                                                  \n",
            " dense_4 (Dense)                (None, 128)          65664       ['universal_sentence_encoder[1][0\n",
            "                                                                 ]']                              \n",
            "                                                                                                  \n",
            " bidirectional (Bidirectional)  (None, 48)           9600        ['char_embed[1][0]']             \n",
            "                                                                                                  \n",
            " tokenc_char_hybrid (Concatenat  (None, 176)         0           ['dense_4[0][0]',                \n",
            " e)                                                               'bidirectional[0][0]']          \n",
            "                                                                                                  \n",
            " dropout (Dropout)              (None, 176)          0           ['tokenc_char_hybrid[0][0]']     \n",
            "                                                                                                  \n",
            " dense_5 (Dense)                (None, 128)          22656       ['dropout[0][0]']                \n",
            "                                                                                                  \n",
            " dropout_1 (Dropout)            (None, 128)          0           ['dense_5[0][0]']                \n",
            "                                                                                                  \n",
            " dense_6 (Dense)                (None, 5)            645         ['dropout_1[0][0]']              \n",
            "                                                                                                  \n",
            "==================================================================================================\n",
            "Total params: 256,897,089\n",
            "Trainable params: 99,265\n",
            "Non-trainable params: 256,797,824\n",
            "__________________________________________________________________________________________________\n"
          ]
        }
      ]
    },
    {
      "cell_type": "code",
      "source": [
        "from keras.utils.vis_utils import plot_model"
      ],
      "metadata": {
        "id": "0Wak6NUrgK-1"
      },
      "execution_count": 93,
      "outputs": []
    },
    {
      "cell_type": "code",
      "source": [
        "plot_model(model_4)"
      ],
      "metadata": {
        "colab": {
          "base_uri": "https://localhost:8080/",
          "height": 856
        },
        "id": "1rjqn9hygqjp",
        "outputId": "841af1fb-0266-4558-b3e0-09036be5300e"
      },
      "execution_count": 94,
      "outputs": [
        {
          "output_type": "execute_result",
          "data": {
            "text/plain": [
              "<IPython.core.display.Image object>"
            ],
            "image/png": "[encoded data removed]"
          },
          "metadata": {},
          "execution_count": 94
        }
      ]
    },
    {
      "cell_type": "code",
      "source": [
        "### combining char and token datasets\n",
        "train_char_token_data = tf.data.Dataset.from_tensor_slices((train_sentences, train_chars))\n",
        "train_char_token_labels = tf.data.Dataset.from_tensor_slices(train_labels_one_hot)\n",
        "train_char_token_dataset = tf.data.Dataset.zip((train_char_token_data, train_char_token_labels))\n",
        "\n",
        "#prefetching\n",
        "train_char_token_dataset = train_char_token_dataset.batch(32).prefetch(tf.data.AUTOTUNE)"
      ],
      "metadata": {
        "id": "YCrZ0Qg5g85o"
      },
      "execution_count": 95,
      "outputs": []
    },
    {
      "cell_type": "code",
      "source": [
        "### combining char and token datasets\n",
        "val_char_token_data = tf.data.Dataset.from_tensor_slices((val_sentences, val_chars))\n",
        "val_char_token_labels = tf.data.Dataset.from_tensor_slices(val_labels_one_hot)\n",
        "val_char_token_dataset = tf.data.Dataset.zip((val_char_token_data, val_char_token_labels))\n",
        "\n",
        "#prefetching\n",
        "val_char_token_dataset = val_char_token_dataset.batch(32).prefetch(tf.data.AUTOTUNE)"
      ],
      "metadata": {
        "id": "1rGqvh-6ihjz"
      },
      "execution_count": 96,
      "outputs": []
    },
    {
      "cell_type": "code",
      "source": [
        "train_char_token_dataset, val_char_token_dataset"
      ],
      "metadata": {
        "colab": {
          "base_uri": "https://localhost:8080/"
        },
        "id": "DQ7GnQPZjF6b",
        "outputId": "e8881d17-acea-4c8d-8bb5-c8459a99a199"
      },
      "execution_count": 97,
      "outputs": [
        {
          "output_type": "execute_result",
          "data": {
            "text/plain": [
              "(<PrefetchDataset element_spec=((TensorSpec(shape=(None,), dtype=tf.string, name=None), TensorSpec(shape=(None,), dtype=tf.string, name=None)), TensorSpec(shape=(None, 5), dtype=tf.float64, name=None))>,\n",
              " <PrefetchDataset element_spec=((TensorSpec(shape=(None,), dtype=tf.string, name=None), TensorSpec(shape=(None,), dtype=tf.string, name=None)), TensorSpec(shape=(None, 5), dtype=tf.float64, name=None))>)"
            ]
          },
          "metadata": {},
          "execution_count": 97
        }
      ]
    },
    {
      "cell_type": "markdown",
      "source": [
        "###Fitting a model"
      ],
      "metadata": {
        "id": "MHWdadJUjKUR"
      }
    },
    {
      "cell_type": "code",
      "source": [
        "history_model_4 = model_4.fit(train_char_token_dataset,\n",
        "                              steps_per_epoch=int(0.1*len(train_char_token_dataset)),\n",
        "                              epochs=3,\n",
        "                              validation_data=val_char_token_dataset,\n",
        "                              validation_steps=int(0.1*len(val_char_token_dataset)))"
      ],
      "metadata": {
        "colab": {
          "base_uri": "https://localhost:8080/"
        },
        "id": "t880EX74jaji",
        "outputId": "b7636516-f300-4f6c-c407-873f81de0915"
      },
      "execution_count": 98,
      "outputs": [
        {
          "output_type": "stream",
          "name": "stdout",
          "text": [
            "Epoch 1/3\n",
            "562/562 [==============================] - 39s 55ms/step - loss: 0.9824 - accuracy: 0.6078 - val_loss: 0.7814 - val_accuracy: 0.7011\n",
            "Epoch 2/3\n",
            "562/562 [==============================] - 27s 48ms/step - loss: 0.8005 - accuracy: 0.6906 - val_loss: 0.7160 - val_accuracy: 0.7324\n",
            "Epoch 3/3\n",
            "562/562 [==============================] - 24s 43ms/step - loss: 0.7686 - accuracy: 0.7084 - val_loss: 0.6861 - val_accuracy: 0.7400\n"
          ]
        }
      ]
    },
    {
      "cell_type": "code",
      "source": [
        "model_4_pred_probs = model_4.predict(val_char_token_dataset)\n",
        "model_4_preds = tf.argmax(model_4_pred_probs, axis=1)\n",
        "model_4_results = calculate_results(val_labels_encoded,\n",
        "                                    model_4_preds)"
      ],
      "metadata": {
        "id": "mOUouM6Cjouq"
      },
      "execution_count": 99,
      "outputs": []
    },
    {
      "cell_type": "code",
      "source": [
        "model_4_results"
      ],
      "metadata": {
        "colab": {
          "base_uri": "https://localhost:8080/"
        },
        "id": "Q7NJP9FmkdJZ",
        "outputId": "00fe815b-19d8-4044-840b-5c34184cba74"
      },
      "execution_count": 100,
      "outputs": [
        {
          "output_type": "execute_result",
          "data": {
            "text/plain": [
              "{'accuracy': 73.76870117833974,\n",
              " 'f1': 0.7352054881854445,\n",
              " 'precision': 0.7378330327025923,\n",
              " 'recall': 0.7376870117833974}"
            ]
          },
          "metadata": {},
          "execution_count": 100
        }
      ]
    },
    {
      "cell_type": "code",
      "source": [
        "#Creating positional embeddings\n",
        "train_df[\"line_number\"].value_counts()"
      ],
      "metadata": {
        "id": "jCsnsO36kd8b",
        "colab": {
          "base_uri": "https://localhost:8080/"
        },
        "outputId": "259ed87b-fd24-4172-e63f-3afae09f8b5f"
      },
      "execution_count": 101,
      "outputs": [
        {
          "output_type": "execute_result",
          "data": {
            "text/plain": [
              "0     15000\n",
              "1     15000\n",
              "2     15000\n",
              "3     15000\n",
              "4     14992\n",
              "5     14949\n",
              "6     14758\n",
              "7     14279\n",
              "8     13346\n",
              "9     11981\n",
              "10    10041\n",
              "11     7892\n",
              "12     5853\n",
              "13     4152\n",
              "14     2835\n",
              "15     1861\n",
              "16     1188\n",
              "17      751\n",
              "18      462\n",
              "19      286\n",
              "20      162\n",
              "21      101\n",
              "22       66\n",
              "23       33\n",
              "24       22\n",
              "25       14\n",
              "26        7\n",
              "27        4\n",
              "28        3\n",
              "29        1\n",
              "30        1\n",
              "Name: line_number, dtype: int64"
            ]
          },
          "metadata": {},
          "execution_count": 101
        }
      ]
    },
    {
      "cell_type": "code",
      "source": [
        "#Distribution of line numebr column\n",
        "train_df.line_number.plot.hist()"
      ],
      "metadata": {
        "colab": {
          "base_uri": "https://localhost:8080/",
          "height": 283
        },
        "id": "7Vt9jJ18IBsg",
        "outputId": "f732bf64-a984-44ad-cd68-89a0899da3cf"
      },
      "execution_count": 102,
      "outputs": [
        {
          "output_type": "execute_result",
          "data": {
            "text/plain": [
              "<matplotlib.axes._subplots.AxesSubplot at 0x7fea0a52c190>"
            ]
          },
          "metadata": {},
          "execution_count": 102
        },
        {
          "output_type": "display_data",
          "data": {
            "text/plain": [
              "<Figure size 432x288 with 1 Axes>"
            ],
            "image/png": "[encoded data removed]"
          },
          "metadata": {
            "needs_background": "light"
          }
        }
      ]
    },
    {
      "cell_type": "code",
      "source": [
        "#using tensorflow to create one hot encoded tensors\n",
        "train_line_numbers_one_hot = tf.one_hot(train_df[\"line_number\"].to_numpy(), depth=15)\n",
        "val_line_numbers_one_hot = tf.one_hot(val_df[\"line_number\"].to_numpy(), depth=15)\n",
        "test_line_numbers_one_hot = tf.one_hot(test_df[\"line_number\"].to_numpy(), depth=15)\n",
        "\n",
        "train_line_numbers_one_hot[:10], train_line_numbers_one_hot.shape"
      ],
      "metadata": {
        "colab": {
          "base_uri": "https://localhost:8080/"
        },
        "id": "MPAgzrB5IRVt",
        "outputId": "71244134-e792-4d7d-a115-e73a56374805"
      },
      "execution_count": 104,
      "outputs": [
        {
          "output_type": "execute_result",
          "data": {
            "text/plain": [
              "(<tf.Tensor: shape=(10, 15), dtype=float32, numpy=\n",
              " array([[1., 0., 0., 0., 0., 0., 0., 0., 0., 0., 0., 0., 0., 0., 0.],\n",
              "        [0., 1., 0., 0., 0., 0., 0., 0., 0., 0., 0., 0., 0., 0., 0.],\n",
              "        [0., 0., 1., 0., 0., 0., 0., 0., 0., 0., 0., 0., 0., 0., 0.],\n",
              "        [0., 0., 0., 1., 0., 0., 0., 0., 0., 0., 0., 0., 0., 0., 0.],\n",
              "        [0., 0., 0., 0., 1., 0., 0., 0., 0., 0., 0., 0., 0., 0., 0.],\n",
              "        [0., 0., 0., 0., 0., 1., 0., 0., 0., 0., 0., 0., 0., 0., 0.],\n",
              "        [0., 0., 0., 0., 0., 0., 1., 0., 0., 0., 0., 0., 0., 0., 0.],\n",
              "        [0., 0., 0., 0., 0., 0., 0., 1., 0., 0., 0., 0., 0., 0., 0.],\n",
              "        [0., 0., 0., 0., 0., 0., 0., 0., 1., 0., 0., 0., 0., 0., 0.],\n",
              "        [0., 0., 0., 0., 0., 0., 0., 0., 0., 1., 0., 0., 0., 0., 0.]],\n",
              "       dtype=float32)>, TensorShape([180040, 15]))"
            ]
          },
          "metadata": {},
          "execution_count": 104
        }
      ]
    },
    {
      "cell_type": "code",
      "source": [
        "train_df.total_lines.plot.hist()"
      ],
      "metadata": {
        "colab": {
          "base_uri": "https://localhost:8080/",
          "height": 285
        },
        "id": "bd57bECzIml6",
        "outputId": "160b5dad-5701-432d-db2c-56daedf19567"
      },
      "execution_count": 105,
      "outputs": [
        {
          "output_type": "execute_result",
          "data": {
            "text/plain": [
              "<matplotlib.axes._subplots.AxesSubplot at 0x7fea45039ed0>"
            ]
          },
          "metadata": {},
          "execution_count": 105
        },
        {
          "output_type": "display_data",
          "data": {
            "text/plain": [
              "<Figure size 432x288 with 1 Axes>"
            ],
            "image/png": "[encoded data removed]"
          },
          "metadata": {
            "needs_background": "light"
          }
        }
      ]
    },
    {
      "cell_type": "code",
      "source": [
        "train_total_lines_one_hot = tf.one_hot(train_df[\"total_lines\"].to_numpy(), depth=20)\n",
        "val_total_lines_one_hot = tf.one_hot(val_df[\"total_lines\"].to_numpy(), depth=20)\n",
        "test_total_lines_one_hot = tf.one_hot(test_df[\"total_lines\"].to_numpy(), depth=20)"
      ],
      "metadata": {
        "id": "uM_cWTumJA_j"
      },
      "execution_count": 106,
      "outputs": []
    },
    {
      "cell_type": "code",
      "source": [
        "train_total_lines_one_hot, train_total_lines_one_hot.shape"
      ],
      "metadata": {
        "colab": {
          "base_uri": "https://localhost:8080/"
        },
        "id": "lHZyMSotJ6m7",
        "outputId": "dc43f5ea-a46d-4ca7-a326-65b902d34a69"
      },
      "execution_count": 107,
      "outputs": [
        {
          "output_type": "execute_result",
          "data": {
            "text/plain": [
              "(<tf.Tensor: shape=(180040, 20), dtype=float32, numpy=\n",
              " array([[0., 0., 0., ..., 0., 0., 0.],\n",
              "        [0., 0., 0., ..., 0., 0., 0.],\n",
              "        [0., 0., 0., ..., 0., 0., 0.],\n",
              "        ...,\n",
              "        [0., 0., 0., ..., 0., 0., 0.],\n",
              "        [0., 0., 0., ..., 0., 0., 0.],\n",
              "        [0., 0., 0., ..., 0., 0., 0.]], dtype=float32)>,\n",
              " TensorShape([180040, 20]))"
            ]
          },
          "metadata": {},
          "execution_count": 107
        }
      ]
    },
    {
      "cell_type": "code",
      "source": [
        "token_inputs = layers.Input(shape=[], dtype=tf.string, name=\"token_input\")\n",
        "token_embeddings = tf_hub_embedding_layer(token_inputs)\n",
        "token_outputs = layers.Dense(128, activation=\"relu\")(token_embeddings)\n",
        "token_model = tf.keras.Model(inputs=token_inputs,\n",
        "                             outputs=token_outputs)\n",
        "\n",
        "char_inputs = layers.Input(shape=(1,), dtype=tf.string, name=\"char_input\")\n",
        "char_vectors = char_vectorizer(char_inputs)\n",
        "char_embeddings = char_embed(char_vectors)\n",
        "char_bi_lstm = layers.Bidirectional(layers.LSTM(24))(char_embeddings)\n",
        "char_model = tf.keras.Model(inputs=char_inputs,\n",
        "                            outputs=char_bi_lstm)\n",
        "\n",
        "line_number_inputs = layers.Input(shape=(15,), dtype=tf.float32, name=\"line_number_input\")\n",
        "x = layers.Dense(32, activation=\"relu\")(line_number_inputs)\n",
        "line_number_model = tf.keras.Model(inputs=line_number_inputs,\n",
        "                                   outputs=x)\n",
        "\n",
        "total_lines_inputs = layers.Input(shape=(20,), dtype=tf.float32, name=\"total_lines_inputs\")\n",
        "y = layers.Dense(32, activation=\"relu\")(total_lines_inputs)\n",
        "total_lines_model = tf.keras.Model(inputs=total_lines_inputs,\n",
        "                                   outputs=y)\n",
        "\n",
        "combined_embeddings = layers.Concatenate(name=\"char_token_hybnrid\")([token_model.output,\n",
        "                                                                     char_model.output])\n",
        "\n",
        "z = layers.Dense(256, activation=\"relu\")(combined_embeddings)\n",
        "z = layers.Dropout(0.5)(z)\n",
        "\n",
        "tribrid_embeddings = layers.Concatenate(name=\"char_token_positional\")([line_number_model.output,\n",
        "                                                                       total_lines_model.output,\n",
        "                                                                       z])\n",
        "\n",
        "output_layer = layers.Dense(5, activation=\"softmax\", name=\"output_layer\")(tribrid_embeddings)\n",
        "\n",
        "model_5 = tf.keras.Model(inputs=[line_number_model.input,\n",
        "                                 total_lines_model.input,\n",
        "                                 token_model.input,\n",
        "                                 char_model.input],\n",
        "                         outputs=output_layer)"
      ],
      "metadata": {
        "id": "ZAhnS86gJ9fC"
      },
      "execution_count": 112,
      "outputs": []
    },
    {
      "cell_type": "code",
      "source": [
        "model_5.summary()"
      ],
      "metadata": {
        "colab": {
          "base_uri": "https://localhost:8080/"
        },
        "id": "4i4NO2x5MJk3",
        "outputId": "4b38be0c-013a-4513-b46f-51badd4eb914"
      },
      "execution_count": 113,
      "outputs": [
        {
          "output_type": "stream",
          "name": "stdout",
          "text": [
            "Model: \"model_19\"\n",
            "__________________________________________________________________________________________________\n",
            " Layer (type)                   Output Shape         Param #     Connected to                     \n",
            "==================================================================================================\n",
            " char_input (InputLayer)        [(None, 1)]          0           []                               \n",
            "                                                                                                  \n",
            " token_input (InputLayer)       [(None,)]            0           []                               \n",
            "                                                                                                  \n",
            " char_vectorizer (TextVectoriza  (None, 290)         0           ['char_input[0][0]']             \n",
            " tion)                                                                                            \n",
            "                                                                                                  \n",
            " universal_sentence_encoder (Ke  (None, 512)         256797824   ['token_input[0][0]']            \n",
            " rasLayer)                                                                                        \n",
            "                                                                                                  \n",
            " char_embed (Embedding)         (None, 290, 25)      700         ['char_vectorizer[5][0]']        \n",
            "                                                                                                  \n",
            " dense_19 (Dense)               (None, 128)          65664       ['universal_sentence_encoder[5][0\n",
            "                                                                 ]']                              \n",
            "                                                                                                  \n",
            " bidirectional_4 (Bidirectional  (None, 48)          9600        ['char_embed[5][0]']             \n",
            " )                                                                                                \n",
            "                                                                                                  \n",
            " char_token_hybnrid (Concatenat  (None, 176)         0           ['dense_19[0][0]',               \n",
            " e)                                                               'bidirectional_4[0][0]']        \n",
            "                                                                                                  \n",
            " line_number_input (InputLayer)  [(None, 15)]        0           []                               \n",
            "                                                                                                  \n",
            " total_lines_inputs (InputLayer  [(None, 20)]        0           []                               \n",
            " )                                                                                                \n",
            "                                                                                                  \n",
            " dense_22 (Dense)               (None, 256)          45312       ['char_token_hybnrid[0][0]']     \n",
            "                                                                                                  \n",
            " dense_20 (Dense)               (None, 32)           512         ['line_number_input[0][0]']      \n",
            "                                                                                                  \n",
            " dense_21 (Dense)               (None, 32)           672         ['total_lines_inputs[0][0]']     \n",
            "                                                                                                  \n",
            " dropout_5 (Dropout)            (None, 256)          0           ['dense_22[0][0]']               \n",
            "                                                                                                  \n",
            " char_token_positional (Concate  (None, 320)         0           ['dense_20[0][0]',               \n",
            " nate)                                                            'dense_21[0][0]',               \n",
            "                                                                  'dropout_5[0][0]']              \n",
            "                                                                                                  \n",
            " output_layer (Dense)           (None, 5)            1605        ['char_token_positional[0][0]']  \n",
            "                                                                                                  \n",
            "==================================================================================================\n",
            "Total params: 256,921,889\n",
            "Trainable params: 124,065\n",
            "Non-trainable params: 256,797,824\n",
            "__________________________________________________________________________________________________\n"
          ]
        }
      ]
    },
    {
      "cell_type": "code",
      "source": [
        "plot_model(model_5)"
      ],
      "metadata": {
        "colab": {
          "base_uri": "https://localhost:8080/",
          "height": 856
        },
        "id": "7yVUcjhnNAAX",
        "outputId": "d8dbf679-fa03-4912-a771-1b9202719153"
      },
      "execution_count": 114,
      "outputs": [
        {
          "output_type": "execute_result",
          "data": {
            "text/plain": [
              "<IPython.core.display.Image object>"
            ],
            "image/png": "[encoded data removed]"
          },
          "metadata": {},
          "execution_count": 114
        }
      ]
    },
    {
      "cell_type": "code",
      "source": [
        "model_5.compile(loss=tf.keras.losses.CategoricalCrossentropy(label_smoothing=0.2),\n",
        "                optimizer=tf.keras.optimizers.Adam(),\n",
        "                metrics=[\"accuracy\"])\n"
      ],
      "metadata": {
        "id": "ZkrEivegNQw5"
      },
      "execution_count": 115,
      "outputs": []
    },
    {
      "cell_type": "code",
      "source": [
        "train_char_token_pos_data = tf.data.Dataset.from_tensor_slices((train_line_numbers_one_hot,\n",
        "                                                                train_total_lines_one_hot,\n",
        "                                                                train_sentences,\n",
        "                                                                train_chars))\n",
        "train_char_token_pos_labels = tf.data.Dataset.from_tensor_slices(train_labels_one_hot)\n",
        "train_char_token_pos_dataset = tf.data.Dataset.zip((train_char_token_pos_data, train_char_token_pos_labels))\n",
        "train_char_token_pos_dataset = train_char_token_pos_dataset.batch(32).prefetch(tf.data.AUTOTUNE)\n",
        "\n",
        "\n",
        "val_char_token_pos_data = tf.data.Dataset.from_tensor_slices((val_line_numbers_one_hot,\n",
        "                                                                val_total_lines_one_hot,\n",
        "                                                                val_sentences,\n",
        "                                                                val_chars))\n",
        "val_char_token_pos_labels = tf.data.Dataset.from_tensor_slices(val_labels_one_hot)\n",
        "val_char_token_pos_dataset = tf.data.Dataset.zip((val_char_token_pos_data, val_char_token_pos_labels))\n",
        "val_char_token_pos_dataset = val_char_token_pos_dataset.batch(32).prefetch(tf.data.AUTOTUNE)"
      ],
      "metadata": {
        "id": "JtTifpOUOAlt"
      },
      "execution_count": 118,
      "outputs": []
    },
    {
      "cell_type": "code",
      "source": [
        ""
      ],
      "metadata": {
        "id": "jWkGjS-TPpsS"
      },
      "execution_count": 117,
      "outputs": []
    }
  ]
}